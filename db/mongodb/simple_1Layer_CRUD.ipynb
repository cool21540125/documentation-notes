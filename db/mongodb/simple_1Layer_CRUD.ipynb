{
 "cells": [
  {
   "cell_type": "code",
   "execution_count": 1,
   "metadata": {},
   "outputs": [],
   "source": [
    "from pymongo import MongoClient\n",
    "from pprint import pprint as pp\n",
    "client = MongoClient('192.168.1.220', 27017)\n",
    "db = client['test']"
   ]
  },
  {
   "cell_type": "code",
   "execution_count": 34,
   "metadata": {},
   "outputs": [
    {
     "name": "stdout",
     "output_type": "stream",
     "text": [
      "{'items': [{'name': 'A', 'price': 2},\n",
      "           {'name': 'B', 'price': 3},\n",
      "           {'name': 'C', 'price': 5}],\n",
      " 'total': 10}\n"
     ]
    }
   ],
   "source": [
    "### 初始購物清單\n",
    "db.bar.delete_one({'_id': 123})\n",
    "\n",
    "db.bar.insert_one({\n",
    "    '_id' : 123,\n",
    "    'total' : 10,\n",
    "    'items' : [\n",
    "        { 'name' : \"A\", 'price' : 2 },\n",
    "        { 'name' : \"B\", 'price' : 3 },\n",
    "        { 'name' : \"C\", 'price' : 5 }\n",
    "    ]\n",
    "})\n",
    "\n",
    "pp(db.bar.find_one({}, {'_id': 0}))"
   ]
  },
  {
   "cell_type": "code",
   "execution_count": 18,
   "metadata": {},
   "outputs": [],
   "source": [
    "order = 123\n",
    "product = \"A\"\n",
    "price = 5"
   ]
  },
  {
   "cell_type": "code",
   "execution_count": 35,
   "metadata": {
    "scrolled": true
   },
   "outputs": [
    {
     "name": "stdout",
     "output_type": "stream",
     "text": [
      "{'items': [{'name': 'B', 'price': 3}, {'name': 'C', 'price': 5}], 'total': 8}\n"
     ]
    }
   ],
   "source": [
    "### 購物清單中 移除一個商品\n",
    "\n",
    "# 1. 移除 特定名字那包\n",
    "cur = db.bar.update_one({'_id': order, \"items.name\": { '$eq': product }}, \n",
    "                        { '$pull': { 'items': { 'name': product }}})\n",
    "# update 用來刪除 Array 內的 {}\n",
    "\n",
    "# 2. 更改 total price\n",
    "total_price = db.bar.aggregate([\n",
    "    {'$match': {'_id': order}},\n",
    "    {'$project': {'_id': 0, 'total': {'$sum': '$items.price'}}}\n",
    "]).next()['total']\n",
    "\n",
    "db.bar.update_one(\n",
    "    {'_id' : order},\n",
    "    {'$set': { \"total\": total_price}}\n",
    ")"
   ]
  },
  {
   "cell_type": "code",
   "execution_count": 39,
   "metadata": {},
   "outputs": [
    {
     "name": "stdout",
     "output_type": "stream",
     "text": [
      "{'items': [{'name': 'B', 'price': 3},\n",
      "           {'name': 'C', 'price': 5},\n",
      "           {'name': 'A', 'price': 5}],\n",
      " 'total': 13}\n"
     ]
    }
   ],
   "source": [
    "### 查詢變更結果\n",
    "pp(db.bar.find_one({}, {'_id': 0}))"
   ]
  },
  {
   "cell_type": "code",
   "execution_count": 38,
   "metadata": {},
   "outputs": [],
   "source": [
    "### 購物清單中 增加一個商品\n",
    "\n",
    "# 1. 增加商品到購物清單\n",
    "res = db.bar.update_one({'_id': order, \"items.name\": { '$ne': product }}, \n",
    "                        { '$addToSet': { 'items': { 'name': product }}})\n",
    "\n",
    "# 2. \n",
    "if res.modified_count > 0:  # 新增一包 (api的 post作的)\n",
    "    db.bar.update_one(\n",
    "        {'_id': order, \"items.name\": product}, \n",
    "        { \n",
    "            '$set': { \"items.$.price\": price},\n",
    "            '$inc': { 'total' : price }\n",
    "        }\n",
    "    )\n",
    "    \n",
    "else: # 修改已有的那包 (api的 put作的)\n",
    "    \"\"\"\n",
    "        流程:\n",
    "        1. 把新增的物件增加價格欄位\n",
    "        2. 重新計算 total_price\n",
    "        3. 更新 total欄位 = total_price\n",
    "    \"\"\"\n",
    "    \n",
    "    # 1.\n",
    "    db.bar.update_one(\n",
    "        {'_id': order, \"items.name\": product}, \n",
    "        {'$set': { \"items.$.price\": price}}\n",
    "    )\n",
    "    \n",
    "    # 2.\n",
    "    total_price = db.bar.aggregate([\n",
    "        {'$match': {'_id': order}},\n",
    "        {'$project': {'_id': 0, 'total': {'$sum': '$items.price'}}}\n",
    "    ]).next()['total']\n",
    "    \n",
    "    # 3.\n",
    "    db.bar.update_one(\n",
    "        {'_id': order}, \n",
    "        {'$set': { \"total\": total_price}}\n",
    "    )"
   ]
  }
 ],
 "metadata": {
  "kernelspec": {
   "display_name": "Python 3",
   "language": "python",
   "name": "python3"
  },
  "language_info": {
   "codemirror_mode": {
    "name": "ipython",
    "version": 3
   },
   "file_extension": ".py",
   "mimetype": "text/x-python",
   "name": "python",
   "nbconvert_exporter": "python",
   "pygments_lexer": "ipython3",
   "version": "3.7.1"
  }
 },
 "nbformat": 4,
 "nbformat_minor": 2
}
