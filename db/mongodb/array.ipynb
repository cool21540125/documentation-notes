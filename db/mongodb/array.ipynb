{
 "cells": [
  {
   "cell_type": "code",
   "execution_count": 19,
   "metadata": {},
   "outputs": [],
   "source": [
    "from pymongo import MongoClient\n",
    "from pprint import pprint as pp\n",
    "client = MongoClient('192.168.1.220', 27017)\n",
    "db = client['test']"
   ]
  },
  {
   "cell_type": "code",
   "execution_count": 86,
   "metadata": {
    "scrolled": true
   },
   "outputs": [
    {
     "data": {
      "text/plain": [
       "<pymongo.results.InsertManyResult at 0x1e018d0f548>"
      ]
     },
     "execution_count": 86,
     "metadata": {},
     "output_type": "execute_result"
    }
   ],
   "source": [
    "### 初始化 倉儲清單\n",
    "db.demo_inventory.delete_many({'item': {'$in': ['PC', 'macbook', 'car', 'NB']}})\n",
    "\n",
    "db.demo_inventory.insert_many([\n",
    "    {\"item\": \"PC\",\n",
    "     \"status\": \"A+\",\n",
    "     \"size\": {\"h\": 14, \"w\": 21, \"uom\": \"cm\"},\n",
    "     \"instock\": [\n",
    "         {\"warehouse\": \"Y\", \"qty\": 5}]},\n",
    "    {\"item\": \"car\",\n",
    "     \"status\": \"A+\",\n",
    "     \"size\": {\"h\": 50, \"w\": 30, \"uom\": \"m\"},\n",
    "     \"instock\": [\n",
    "         {\"warehouse\": \"X\", \"qty\": 6}]},\n",
    "    {\"item\": \"macbook\",\n",
    "     \"status\": \"C+\",\n",
    "     \"size\": {\"h\": 8.5, \"w\": 11, \"uom\": \"in\"},\n",
    "     \"instock\": [{\"warehouse\": \"A\", \"qty\": 60}]},\n",
    "    {\"item\": \"car\",\n",
    "     \"status\": \"B-\",\n",
    "     \"size\": {\"h\": 8.5, \"w\": 11, \"uom\": \"in\"},\n",
    "     \"instock\": [\n",
    "         {\"warehouse\": \"Z\", \"qty\": 60}]},\n",
    "    {\"item\": \"NB\",\n",
    "     \"status\": \"A-\",\n",
    "     \"size\": {\"h\": 10, \"w\": 15.25, \"uom\": \"cm\"},\n",
    "     \"instock\": [\n",
    "         {\"warehouse\": \"X\", \"qty\": 15},\n",
    "         {\"warehouse\": \"Y\", \"qty\": 35}]}])"
   ]
  },
  {
   "cell_type": "code",
   "execution_count": 103,
   "metadata": {
    "scrolled": true
   },
   "outputs": [
    {
     "name": "stdout",
     "output_type": "stream",
     "text": [
      "[{'instock': [{'qty': 5, 'warehouse': 'Y'}], 'item': 'PC'},\n",
      " {'instock': [{'qty': 6, 'warehouse': 'X'}], 'item': 'car'}]\n"
     ]
    }
   ],
   "source": [
    "### 攤平 instock 查詢結果\n",
    "# https://docs.mongodb.com/manual/tutorial/project-fields-from-query-results/\n",
    "result = db.demo_inventory.find(\n",
    "    {\"status\": \"A+\"},\n",
    "    {\"_id\": 0, \"item\": 1, \"instock\": {\"$slice\": -1}})\n",
    "pp(list(result))"
   ]
  },
  {
   "cell_type": "code",
   "execution_count": 104,
   "metadata": {
    "scrolled": true
   },
   "outputs": [
    {
     "data": {
      "text/plain": [
       "[{'item': 'PC', 'instock': [{'warehouse': 'Y', 'qty': 5}]},\n",
       " {'item': 'car', 'instock': [{'warehouse': 'X', 'qty': 6}]}]"
      ]
     },
     "execution_count": 104,
     "metadata": {},
     "output_type": "execute_result"
    }
   ],
   "source": [
    "list(db.demo_inventory.find({\"status\": \"A+\"}, \n",
    "                            {\"_id\": 0, \"instock\": 1, \"item\": 1}))"
   ]
  },
  {
   "cell_type": "code",
   "execution_count": 105,
   "metadata": {},
   "outputs": [],
   "source": [
    "### 查 array(obj)\n",
    "# https://docs.mongodb.com/manual/tutorial/query-array-of-documents/"
   ]
  }
 ],
 "metadata": {
  "kernelspec": {
   "display_name": "Python 3",
   "language": "python",
   "name": "python3"
  },
  "language_info": {
   "codemirror_mode": {
    "name": "ipython",
    "version": 3
   },
   "file_extension": ".py",
   "mimetype": "text/x-python",
   "name": "python",
   "nbconvert_exporter": "python",
   "pygments_lexer": "ipython3",
   "version": "3.7.1"
  }
 },
 "nbformat": 4,
 "nbformat_minor": 4
}
