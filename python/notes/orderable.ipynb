{
 "cells": [
  {
   "cell_type": "markdown",
   "metadata": {},
   "source": [
    "# orderable 協定 (排序)\n",
    "\n",
    "- 2019/06/28\n",
    "- python3.5 技術手冊 Ch9.1.3"
   ]
  },
  {
   "cell_type": "markdown",
   "metadata": {},
   "source": [
    "### - list(tuple) 排序"
   ]
  },
  {
   "cell_type": "code",
   "execution_count": 1,
   "metadata": {},
   "outputs": [
    {
     "data": {
      "text/plain": [
       "[('Justin', 'A', 40), ('Monica', 'B', 37), ('Irene', 'C', 8)]"
      ]
     },
     "execution_count": 1,
     "metadata": {},
     "output_type": "execute_result"
    }
   ],
   "source": [
    "### 使用 list.sort() 排序\n",
    "customers = [\n",
    "    ('Justin', 'A', 40),\n",
    "    ('Irene', 'C', 8),\n",
    "    ('Monica', 'B', 37)\n",
    "]\n",
    "customers.sort(key=lambda wow: wow[2], reverse=True)\n",
    "customers"
   ]
  },
  {
   "cell_type": "code",
   "execution_count": 2,
   "metadata": {},
   "outputs": [
    {
     "data": {
      "text/plain": [
       "[('Irene', 'C', 8), ('Justin', 'A', 40), ('Monica', 'B', 37)]"
      ]
     },
     "execution_count": 2,
     "metadata": {},
     "output_type": "execute_result"
    }
   ],
   "source": [
    "### 使用 sorted 方法排序\n",
    "sorted(customers)"
   ]
  },
  {
   "cell_type": "markdown",
   "metadata": {},
   "source": [
    "### - list(dict) 排序"
   ]
  },
  {
   "cell_type": "code",
   "execution_count": 3,
   "metadata": {
    "scrolled": true
   },
   "outputs": [
    {
     "data": {
      "text/plain": [
       "[{'name': 'Ivan', 'age': 50},\n",
       " {'name': 'Chris', 'age': 40},\n",
       " {'name': 'Tony', 'age': 30}]"
      ]
     },
     "execution_count": 3,
     "metadata": {},
     "output_type": "execute_result"
    }
   ],
   "source": [
    "customers = [\n",
    "    {'name': 'Tony', 'age': 30},\n",
    "    {'name': 'Chris', 'age': 40},\n",
    "    {'name': 'Ivan', 'age': 50}\n",
    "]\n",
    "\n",
    "sortby='age'\n",
    "descending=True\n",
    "customers.sort(key=lambda wow: wow[sortby], reverse=descending)\n",
    "customers"
   ]
  },
  {
   "cell_type": "markdown",
   "metadata": {},
   "source": [
    "### - list(object) 排序"
   ]
  },
  {
   "cell_type": "code",
   "execution_count": 4,
   "metadata": {},
   "outputs": [
    {
     "data": {
      "text/plain": [
       "[<__main__.Customer at 0x1fcad0f4588>,\n",
       " <__main__.Customer at 0x1fcad0f42e8>,\n",
       " <__main__.Customer at 0x1fcad0f4438>]"
      ]
     },
     "execution_count": 4,
     "metadata": {},
     "output_type": "execute_result"
    }
   ],
   "source": [
    "class Customer:\n",
    "    def __init__(self, name, symbol, age):\n",
    "        self.name = name\n",
    "        self.symbol = symbol\n",
    "        self.age = age\n",
    "        \n",
    "customers = [\n",
    "    Customer('Justin', 'A', 40),\n",
    "    Customer('Irene', 'C', 8),\n",
    "    Customer('Monica', 'B', 37)\n",
    "]\n",
    "\n",
    "customers\n",
    "\n",
    "# 並非 orderable, 無法排序\n",
    "# sorted(customers)"
   ]
  },
  {
   "cell_type": "markdown",
   "metadata": {},
   "source": [
    "### - object 自行實作排序方式(麻煩, 不彈性)"
   ]
  },
  {
   "cell_type": "code",
   "execution_count": 5,
   "metadata": {},
   "outputs": [
    {
     "data": {
      "text/plain": [
       "[Customer(\"Irene\", \"C\", \"8\"),\n",
       " Customer(\"Justin\", \"A\", \"40\"),\n",
       " Customer(\"Monica\", \"B\", \"37\")]"
      ]
     },
     "execution_count": 5,
     "metadata": {},
     "output_type": "execute_result"
    }
   ],
   "source": [
    "class Customer:\n",
    "    def __init__(self, name, symbol, age):\n",
    "        self.name = name\n",
    "        self.symbol = symbol\n",
    "        self.age = age\n",
    "        \n",
    "    # 排序實作上很麻煩, 可考慮使用底下的 attrgetter\n",
    "    def __lt__(self, other):\n",
    "        return self.name < other.name\n",
    "#         return self.age < other.age\n",
    "    \n",
    "    def __str__(self):\n",
    "        return 'Customer(\"{name}\", \"{symbol}\", \"{age}\")'.format(**vars(self))\n",
    "    \n",
    "    def __repr__(self):\n",
    "        return self.__str__()\n",
    "    \n",
    "customers = [\n",
    "    Customer('Justin', 'A', 40),\n",
    "    Customer('Irene', 'C', 8),\n",
    "    Customer('Monica', 'B', 37)\n",
    "]\n",
    "\n",
    "sorted(customers)"
   ]
  },
  {
   "cell_type": "markdown",
   "metadata": {},
   "source": [
    "### - 彈性排序方式 itemgetter, attrgetter"
   ]
  },
  {
   "cell_type": "code",
   "execution_count": 6,
   "metadata": {},
   "outputs": [],
   "source": [
    "from operator import itemgetter, attrgetter"
   ]
  },
  {
   "cell_type": "markdown",
   "metadata": {},
   "source": [
    "#### 1. itemgetter"
   ]
  },
  {
   "cell_type": "code",
   "execution_count": 7,
   "metadata": {},
   "outputs": [
    {
     "data": {
      "text/plain": [
       "[('Irene', 'C', 8), ('Monica', 'B', 37), ('Justin', 'A', 40)]"
      ]
     },
     "execution_count": 7,
     "metadata": {},
     "output_type": "execute_result"
    }
   ],
   "source": [
    "customers = [\n",
    "    ('Justin', 'A', 40), \n",
    "    ('Irene', 'C', 8), \n",
    "    ('Monica', 'B', 37)\n",
    "]\n",
    "\n",
    "sorted(customers, key=itemgetter(2))"
   ]
  },
  {
   "cell_type": "markdown",
   "metadata": {},
   "source": [
    "#### 2. attrgetter"
   ]
  },
  {
   "cell_type": "code",
   "execution_count": 8,
   "metadata": {
    "scrolled": true
   },
   "outputs": [
    {
     "data": {
      "text/plain": [
       "[Customer(\"Irene\", \"C\", \"8\"),\n",
       " Customer(\"Monica\", \"B\", \"37\"),\n",
       " Customer(\"Justin\", \"A\", \"40\")]"
      ]
     },
     "execution_count": 8,
     "metadata": {},
     "output_type": "execute_result"
    }
   ],
   "source": [
    "class Customer:\n",
    "    def __init__(self, name, symbol, age):\n",
    "        self.name = name\n",
    "        self.symbol = symbol\n",
    "        self.age = age\n",
    "    \n",
    "    def __repr__(self):\n",
    "        return 'Customer(\"{name}\", \"{symbol}\", \"{age}\")'.format(**vars(self))\n",
    "\n",
    "customers = [\n",
    "    Customer('Justin', 'A', 40),\n",
    "    Customer('Irene', 'C', 8),\n",
    "    Customer('Monica', 'B', 37)\n",
    "]\n",
    "\n",
    "sorted(customers, key=attrgetter('age'))"
   ]
  },
  {
   "cell_type": "code",
   "execution_count": null,
   "metadata": {},
   "outputs": [],
   "source": []
  }
 ],
 "metadata": {
  "kernelspec": {
   "display_name": "Python 3",
   "language": "python",
   "name": "python3"
  },
  "language_info": {
   "codemirror_mode": {
    "name": "ipython",
    "version": 3
   },
   "file_extension": ".py",
   "mimetype": "text/x-python",
   "name": "python",
   "nbconvert_exporter": "python",
   "pygments_lexer": "ipython3",
   "version": "3.7.1"
  }
 },
 "nbformat": 4,
 "nbformat_minor": 2
}
