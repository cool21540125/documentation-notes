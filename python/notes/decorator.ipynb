{
 "cells": [
  {
   "cell_type": "markdown",
   "metadata": {},
   "source": [
    "- https://foofish.net/python-decorator.html\n",
    "- 2019/08/30"
   ]
  },
  {
   "cell_type": "code",
   "execution_count": 1,
   "metadata": {},
   "outputs": [
    {
     "name": "stdout",
     "output_type": "stream",
     "text": [
      "foo\n"
     ]
    }
   ],
   "source": [
    "### python 中的 function 為 一級函式, 可以當作參數, 傳送給其他 function 當作 參數\n",
    "def foo():\n",
    "    print('foo')\n",
    "    \n",
    "def bar(func):\n",
    "    func()\n",
    "    \n",
    "bar(foo)"
   ]
  },
  {
   "cell_type": "markdown",
   "metadata": {},
   "source": [
    "> decorator 本質上是一個 `python function / python class`. decorator 的 return value 其實就是個 `function/object`\n",
    "\n",
    "> ex: logging, 性能測試, transaction, cache, verify auth... 等\n"
   ]
  },
  {
   "cell_type": "markdown",
   "metadata": {},
   "source": [
    "## 底下一個範例, 示範 decorator 改寫過程, 分為 4 步"
   ]
  },
  {
   "cell_type": "code",
   "execution_count": 2,
   "metadata": {},
   "outputs": [],
   "source": [
    "import logging\n",
    "logging.basicConfig(level=logging.DEBUG)"
   ]
  },
  {
   "cell_type": "markdown",
   "metadata": {},
   "source": [
    "### 1"
   ]
  },
  {
   "cell_type": "code",
   "execution_count": 3,
   "metadata": {},
   "outputs": [
    {
     "name": "stderr",
     "output_type": "stream",
     "text": [
      "DEBUG:root:foo2 is running\n"
     ]
    },
    {
     "name": "stdout",
     "output_type": "stream",
     "text": [
      "this is foo2\n"
     ]
    }
   ],
   "source": [
    "### 大量重複\n",
    "import logging\n",
    "\n",
    "def foo():\n",
    "    print('this is foo')\n",
    "    logging.debug('foo is running')\n",
    "\n",
    "def foo2():\n",
    "    print('this is foo2')\n",
    "    logging.debug('foo2 is running')\n",
    "\n",
    "def foo3():\n",
    "    print('this is foo3')\n",
    "    logging.debug('foo3 is running')\n",
    "\n",
    "foo2()"
   ]
  },
  {
   "cell_type": "markdown",
   "metadata": {},
   "source": [
    "### 2"
   ]
  },
  {
   "cell_type": "code",
   "execution_count": 4,
   "metadata": {},
   "outputs": [
    {
     "name": "stderr",
     "output_type": "stream",
     "text": [
      "DEBUG:root:foo2 is running\n"
     ]
    },
    {
     "name": "stdout",
     "output_type": "stream",
     "text": [
      "this is foo2\n"
     ]
    }
   ],
   "source": [
    "### 減少程式碼了, 但似乎更糟糕. 把程式邏輯 && logging 邏輯混合在一起\n",
    "import logging\n",
    "\n",
    "def use_loggin(func):\n",
    "    logging.debug(f'{func.__name__} is running')\n",
    "    func()\n",
    "\n",
    "def foo():\n",
    "    print('this is foo')\n",
    "\n",
    "def foo2():\n",
    "    print('this is foo2')\n",
    "\n",
    "def foo3():\n",
    "    print('this is foo3')\n",
    "\n",
    "use_loggin(foo2)"
   ]
  },
  {
   "cell_type": "markdown",
   "metadata": {},
   "source": [
    "### 3. 改寫為 decorator 半套的寫法"
   ]
  },
  {
   "cell_type": "code",
   "execution_count": 6,
   "metadata": {},
   "outputs": [
    {
     "name": "stderr",
     "output_type": "stream",
     "text": [
      "DEBUG:root:foo2 is running\n"
     ]
    },
    {
     "name": "stdout",
     "output_type": "stream",
     "text": [
      "this is foo2\n"
     ]
    }
   ],
   "source": [
    "import logging\n",
    "\n",
    "def use_logging(func):\n",
    "    def business():\n",
    "        logging.debug(f'{func.__name__} is running')\n",
    "        return func()\n",
    "    return business\n",
    "\n",
    "def foo():\n",
    "    print('this is foo')\n",
    "\n",
    "def foo2():\n",
    "    print('this is foo2')\n",
    "\n",
    "def foo3():\n",
    "    print('this is foo3')\n",
    "\n",
    "foo2 = use_logging(foo2)\n",
    "foo2()"
   ]
  },
  {
   "cell_type": "markdown",
   "metadata": {},
   "source": [
    "### 4. decorator 完整寫法\n",
    "\n",
    "有了 「@ 語法蜜糖」, 省略掉了 foo2 = use_logging(foo2) 這種寫法\n",
    "\n",
    "function return function, 即為 decorator. 裏頭包裹著業 `務邏輯函式(func)`"
   ]
  },
  {
   "cell_type": "code",
   "execution_count": 7,
   "metadata": {},
   "outputs": [
    {
     "name": "stderr",
     "output_type": "stream",
     "text": [
      "DEBUG:root:foo2 is running\n"
     ]
    },
    {
     "name": "stdout",
     "output_type": "stream",
     "text": [
      "this is foo2\n"
     ]
    }
   ],
   "source": [
    "import logging\n",
    "\n",
    "def use_logging(func):\n",
    "    def business():\n",
    "        logging.debug(f'{func.__name__} is running')\n",
    "        return func()\n",
    "    return business\n",
    "\n",
    "@use_logging\n",
    "def foo():\n",
    "    print('this is foo')\n",
    "\n",
    "@use_logging\n",
    "def foo2():\n",
    "    print('this is foo2')\n",
    "\n",
    "@use_logging\n",
    "def foo3():\n",
    "    print('this is foo3')\n",
    "\n",
    "foo2()"
   ]
  },
  {
   "cell_type": "markdown",
   "metadata": {},
   "source": [
    "## decorator + paramaters"
   ]
  },
  {
   "cell_type": "markdown",
   "metadata": {},
   "source": [
    "### 1. 一個參數\n",
    "\n",
    "業務邏輯 foo 們需要帶參數"
   ]
  },
  {
   "cell_type": "code",
   "execution_count": 8,
   "metadata": {},
   "outputs": [
    {
     "name": "stderr",
     "output_type": "stream",
     "text": [
      "DEBUG:root:foo2 is running\n"
     ]
    },
    {
     "name": "stdout",
     "output_type": "stream",
     "text": [
      "55\n"
     ]
    }
   ],
   "source": [
    "import logging\n",
    "\n",
    "def use_logging(func):\n",
    "    def business(msg):\n",
    "        logging.debug(f'{func.__name__} is running')\n",
    "        return func(msg)\n",
    "    return business\n",
    "\n",
    "@use_logging\n",
    "def foo(msg):\n",
    "    print(msg)\n",
    "\n",
    "@use_logging\n",
    "def foo2(msg):\n",
    "    print(msg)\n",
    "\n",
    "@use_logging\n",
    "def foo3(msg):\n",
    "    print(msg)\n",
    "\n",
    "foo2(55)"
   ]
  },
  {
   "cell_type": "markdown",
   "metadata": {},
   "source": [
    "### 2. 很多很多參數, 使用 \\*args, \\**kwargs"
   ]
  },
  {
   "cell_type": "code",
   "execution_count": 9,
   "metadata": {},
   "outputs": [
    {
     "name": "stderr",
     "output_type": "stream",
     "text": [
      "INFO:root:foo2 is running\n"
     ]
    },
    {
     "name": "stdout",
     "output_type": "stream",
     "text": [
      "55\n"
     ]
    }
   ],
   "source": [
    "import logging\n",
    "\n",
    "def use_logging(level):\n",
    "    def decorator(func):\n",
    "        def business(*args, **kwargs):\n",
    "            if level == 'debug':\n",
    "                logging.debug(f'{func.__name__} is running')\n",
    "            elif level == 'info':\n",
    "                logging.info(f'{func.__name__} is running')\n",
    "            elif level == 'warn':\n",
    "                logging.warn(f'{func.__name__} is running')\n",
    "            return func(*args, **kwargs)\n",
    "        return business\n",
    "    return decorator\n",
    "\n",
    "@use_logging(level='debug')\n",
    "def foo(msg):\n",
    "    print(msg)\n",
    "\n",
    "@use_logging(level='info')\n",
    "def foo2(msg):\n",
    "    print(msg)\n",
    "\n",
    "@use_logging(level='warn')\n",
    "def foo3(msg):\n",
    "    print(msg)\n",
    "\n",
    "foo2(55)"
   ]
  },
  {
   "cell_type": "markdown",
   "metadata": {},
   "source": [
    "## class decoarator\n",
    "\n",
    "主要依靠 \\_\\_call__ , 使用「@」可在 decorator 附加到 function 之上"
   ]
  },
  {
   "cell_type": "code",
   "execution_count": 17,
   "metadata": {},
   "outputs": [
    {
     "name": "stdout",
     "output_type": "stream",
     "text": [
      "class decorator start\n",
      "bar\n",
      "class decorator end\n"
     ]
    }
   ],
   "source": [
    "from dataclasses import dataclass\n",
    "\n",
    "@dataclass\n",
    "class Foo:\n",
    "    func: any\n",
    "        \n",
    "    def __call__(self):\n",
    "        print('class decorator start')\n",
    "        self.func()\n",
    "        print('class decorator end')\n",
    "      \n",
    "@Foo\n",
    "def bar():\n",
    "    print('bar')\n",
    "\n",
    "bar()"
   ]
  },
  {
   "cell_type": "code",
   "execution_count": 26,
   "metadata": {},
   "outputs": [],
   "source": []
  },
  {
   "cell_type": "code",
   "execution_count": null,
   "metadata": {},
   "outputs": [],
   "source": []
  }
 ],
 "metadata": {
  "kernelspec": {
   "display_name": "Python 3",
   "language": "python",
   "name": "python3"
  },
  "language_info": {
   "codemirror_mode": {
    "name": "ipython",
    "version": 3
   },
   "file_extension": ".py",
   "mimetype": "text/x-python",
   "name": "python",
   "nbconvert_exporter": "python",
   "pygments_lexer": "ipython3",
   "version": "3.7.1"
  }
 },
 "nbformat": 4,
 "nbformat_minor": 2
}
