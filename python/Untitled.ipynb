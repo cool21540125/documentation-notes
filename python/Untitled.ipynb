{
 "cells": [
  {
   "cell_type": "markdown",
   "metadata": {},
   "source": [
    "### getattr\n",
    "- 一般的方法, 用來抓取物件屬性"
   ]
  },
  {
   "cell_type": "code",
   "execution_count": 15,
   "metadata": {},
   "outputs": [
    {
     "data": {
      "text/plain": [
       "30"
      ]
     },
     "execution_count": 15,
     "metadata": {},
     "output_type": "execute_result"
    }
   ],
   "source": [
    "class People:\n",
    "    def __init__(self, name):\n",
    "        self.name = name\n",
    "        \n",
    "p = People('tony')\n",
    "getattr(p, 'name')     # -> 'tony'\n",
    "# getattr(p, 'age')    # AttributeError\n",
    "getattr(p, 'age', 30)  # -> 30"
   ]
  },
  {
   "cell_type": "markdown",
   "metadata": {},
   "source": [
    "### \\_\\_getattr__\n",
    "- 如果要抓取不存在的物件屬性時, 會透過這方法"
   ]
  },
  {
   "cell_type": "code",
   "execution_count": 7,
   "metadata": {},
   "outputs": [
    {
     "name": "stdout",
     "output_type": "stream",
     "text": [
      "沒 age 這東西\n"
     ]
    }
   ],
   "source": [
    "class People:\n",
    "    def __init__(self, name):\n",
    "        self.name = name\n",
    "\n",
    "    def __getattr__(self, item):\n",
    "        return f'沒 {item} 這東西'\n",
    "\n",
    "p = People('tony')\n",
    "print(p.age)"
   ]
  },
  {
   "cell_type": "markdown",
   "metadata": {},
   "source": [
    "### \\_\\_getattribute__\n",
    "- ..."
   ]
  },
  {
   "cell_type": "code",
   "execution_count": null,
   "metadata": {},
   "outputs": [],
   "source": []
  }
 ],
 "metadata": {
  "kernelspec": {
   "display_name": "Python 3",
   "language": "python",
   "name": "python3"
  },
  "language_info": {
   "codemirror_mode": {
    "name": "ipython",
    "version": 3
   },
   "file_extension": ".py",
   "mimetype": "text/x-python",
   "name": "python",
   "nbconvert_exporter": "python",
   "pygments_lexer": "ipython3",
   "version": "3.7.5"
  }
 },
 "nbformat": 4,
 "nbformat_minor": 2
}
