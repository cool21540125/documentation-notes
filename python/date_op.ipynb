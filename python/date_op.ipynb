{
 "cells": [
  {
   "cell_type": "code",
   "execution_count": 12,
   "metadata": {},
   "outputs": [
    {
     "name": "stdout",
     "output_type": "stream",
     "text": [
      "2020-09-01\n",
      "2020-09-30\n",
      "2020-09-20\n",
      "2020-09-26\n"
     ]
    }
   ],
   "source": [
    "from datetime import timedelta, date\n",
    "\n",
    "\n",
    "class DateTimeTools:\n",
    "\n",
    "    def first_day_of_month(self, dt: date) -> date:\n",
    "        return date(dt.year, dt.month, 1)\n",
    "    \n",
    "    def last_day_of_month(self, dt: date) -> date:\n",
    "        dt2 = date(dt.year + 1, 1, 1) if dt.month == 12 else date(dt.year, dt.month + 1, 1)\n",
    "        return date(dt2.year, dt2.month, 1) - timedelta(days=1)\n",
    "    \n",
    "    def first_day_of_week(self, dt: date) -> date:\n",
    "        return dt - timedelta(days=dt.isoweekday() % 7)\n",
    "    \n",
    "    def last_day_of_week(self, dt: date) -> date:\n",
    "        # return dt - timedelta(days=dt.isoweekday() % 7) + timedelta(days=6)\n",
    "        return self.first_day_of_week(dt=dt) + timedelta(days=6)\n",
    "\n",
    "\n",
    "dd = date(2020, 9, 21)\n",
    "\n",
    "a = DateTimeTools()\n",
    "print(a.first_day_of_month(dt=dd))\n",
    "print(a.last_day_of_month(dt=dd))\n",
    "print(a.first_day_of_week(dt=dd))\n",
    "print(a.last_day_of_week(dt=dd))"
   ]
  },
  {
   "cell_type": "code",
   "execution_count": 15,
   "metadata": {},
   "outputs": [
    {
     "name": "stdout",
     "output_type": "stream",
     "text": [
      "2020-09-01\n",
      "2020-09-30\n",
      "2020-09-20\n",
      "2020-09-26\n"
     ]
    }
   ],
   "source": [
    "from datetime import timedelta, date\n",
    "\n",
    "\n",
    "class DateTimeTools:\n",
    "    \n",
    "    def __init__(self, dt: date):\n",
    "        self._dt = dt\n",
    "\n",
    "    def first_day_of_month(self) -> date:\n",
    "        return date(self._dt.year, self._dt.month, 1)\n",
    "    \n",
    "    def last_day_of_month(self) -> date:\n",
    "        dt2 = date(self._dt.year + 1, 1, 1) if self._dt.month == 12 else date(self._dt.year, self._dt.month + 1, 1)\n",
    "        return date(dt2.year, dt2.month, 1) - timedelta(days=1)\n",
    "    \n",
    "    def first_day_of_week(self) -> date:\n",
    "        return self._dt - timedelta(days=self._dt.isoweekday() % 7)\n",
    "    \n",
    "    def last_day_of_week(self) -> date:\n",
    "        return self.first_day_of_week() + timedelta(days=6)\n",
    "    \n",
    "    \n",
    "\n",
    "dd = date(2020, 9, 21)\n",
    "\n",
    "a = DateTimeTools(dt=dd)\n",
    "print(a.first_day_of_month())\n",
    "print(a.last_day_of_month())\n",
    "print(a.first_day_of_week())\n",
    "print(a.last_day_of_week())"
   ]
  },
  {
   "cell_type": "code",
   "execution_count": 17,
   "metadata": {},
   "outputs": [
    {
     "name": "stdout",
     "output_type": "stream",
     "text": [
      "2020-09-01\n",
      "2020-09-30\n",
      "2020-09-20\n",
      "2020-09-26\n"
     ]
    }
   ],
   "source": [
    "from datetime import timedelta, date\n",
    "\n",
    "\n",
    "class DateTimeTools:\n",
    "\n",
    "    @classmethod\n",
    "    def first_day_of_month(cls, dt: date) -> date:\n",
    "        return date(dt.year, dt.month, 1)\n",
    "    \n",
    "    @classmethod\n",
    "    def last_day_of_month(cls, dt: date) -> date:\n",
    "        dt2 = date(dt.year + 1, 1, 1) if dt.month == 12 else date(dt.year, dt.month + 1, 1)\n",
    "        return date(dt2.year, dt2.month, 1) - timedelta(days=1)\n",
    "    \n",
    "    @classmethod\n",
    "    def first_day_of_week(cls, dt: date) -> date:\n",
    "        return dt - timedelta(days=dt.isoweekday() % 7)\n",
    "    \n",
    "    @classmethod\n",
    "    def last_day_of_week(cls, dt: date) -> date:\n",
    "        # return dt - timedelta(days=dt.isoweekday() % 7) + timedelta(days=6)\n",
    "        return DateTimeTools.first_day_of_week(dt=dt) + timedelta(days=6)\n",
    "\n",
    "\n",
    "dd = date(2020, 9, 21)\n",
    "\n",
    "print(DateTimeTools.first_day_of_month(dt=dd))\n",
    "print(DateTimeTools.last_day_of_month(dt=dd))\n",
    "print(DateTimeTools.first_day_of_week(dt=dd))\n",
    "print(DateTimeTools.last_day_of_week(dt=dd))"
   ]
  },
  {
   "cell_type": "code",
   "execution_count": 19,
   "metadata": {},
   "outputs": [
    {
     "name": "stdout",
     "output_type": "stream",
     "text": [
      "2020-09-01\n",
      "2020-09-30\n",
      "2020-09-20\n",
      "2020-09-26\n"
     ]
    }
   ],
   "source": [
    "from datetime import timedelta, date\n",
    "\n",
    "\n",
    "class DateTimeTools:\n",
    "\n",
    "    @staticmethod\n",
    "    def first_day_of_month(dt: date) -> date:\n",
    "        return date(dt.year, dt.month, 1)\n",
    "    \n",
    "    @staticmethod\n",
    "    def last_day_of_month(dt: date) -> date:\n",
    "        dt2 = date(dt.year + 1, 1, 1) if dt.month == 12 else date(dt.year, dt.month + 1, 1)\n",
    "        return date(dt2.year, dt2.month, 1) - timedelta(days=1)\n",
    "    \n",
    "    @staticmethod\n",
    "    def first_day_of_week(dt: date) -> date:\n",
    "        return dt - timedelta(days=dt.isoweekday() % 7)\n",
    "    \n",
    "    @staticmethod\n",
    "    def last_day_of_week(dt: date) -> date:\n",
    "        return DateTimeTools.first_day_of_week(dt=dt) + timedelta(days=6)\n",
    "\n",
    "\n",
    "dd = date(2020, 9, 21)\n",
    "\n",
    "print(DateTimeTools.first_day_of_month(dt=dd))\n",
    "print(DateTimeTools.last_day_of_month(dt=dd))\n",
    "print(DateTimeTools.first_day_of_week(dt=dd))\n",
    "print(DateTimeTools.last_day_of_week(dt=dd))"
   ]
  }
 ],
 "metadata": {
  "kernelspec": {
   "display_name": "Python 3.7.5 64-bit ('venv': venv)",
   "language": "python",
   "name": "python37564bitvenvvenvebce56acb61a448685f47c85493d7114"
  },
  "language_info": {
   "codemirror_mode": {
    "name": "ipython",
    "version": 3
   },
   "file_extension": ".py",
   "mimetype": "text/x-python",
   "name": "python",
   "nbconvert_exporter": "python",
   "pygments_lexer": "ipython3",
   "version": "3.7.5"
  }
 },
 "nbformat": 4,
 "nbformat_minor": 2
}
