{
 "cells": [
  {
   "cell_type": "code",
   "execution_count": 1,
   "metadata": {},
   "outputs": [
    {
     "data": {
      "text/plain": [
       "tony"
      ]
     },
     "execution_count": 1,
     "metadata": {},
     "output_type": "execute_result"
    }
   ],
   "source": [
    "class People:\n",
    "    def __init__(self, sex: bool, name: str):\n",
    "        self._sex = sex\n",
    "        self._name = name\n",
    "\n",
    "    def __str__(self):\n",
    "        \"\"\"\n",
    "        p1 = People(...)\n",
    "        print(p1)\n",
    "        \"\"\"\n",
    "        return f\"{self._name}\"\n",
    "    \n",
    "    def __repr__(self):\n",
    "        \"\"\"\n",
    "        互動式介面使用\n",
    "        p1 = People(...)\n",
    "        p1\n",
    "        \"\"\"\n",
    "        return f\"{self._name}\"\n",
    "\n",
    "\n",
    "p1 = People(sex=True, name='tony')\n",
    "p1"
   ]
  },
  {
   "cell_type": "code",
   "execution_count": 2,
   "metadata": {},
   "outputs": [],
   "source": [
    "p1 = People(1, 'tony')"
   ]
  },
  {
   "cell_type": "code",
   "execution_count": 3,
   "metadata": {},
   "outputs": [
    {
     "name": "stdout",
     "output_type": "stream",
     "text": [
      "0\n"
     ]
    }
   ],
   "source": [
    "class People2:\n",
    "    def __init__(self, sex: bool, name: str):\n",
    "        self.sex = sex\n",
    "        self.name = name\n",
    "    \n",
    "    def name(self):\n",
    "        return self._name\n",
    "\n",
    "\n",
    "p2 = People2(sex=True, name='tony')\n",
    "p2.name = \"Leo\"\n",
    "p2.sex = 0\n",
    "print(p2.sex)"
   ]
  },
  {
   "cell_type": "code",
   "execution_count": 4,
   "metadata": {},
   "outputs": [
    {
     "data": {
      "text/plain": [
       "'tony'"
      ]
     },
     "execution_count": 4,
     "metadata": {},
     "output_type": "execute_result"
    }
   ],
   "source": [
    "class People2a:\n",
    "    def __init__(self, sex: bool, name: str):\n",
    "        self._sex = sex\n",
    "        self._name = name\n",
    "    \n",
    "    def name(self):\n",
    "        return self._name\n",
    "\n",
    "\n",
    "p2a = People2a(sex=True, name='tony')\n",
    "p2a.name()  # 使用方法的方式來取的 私有屬性 _name"
   ]
  },
  {
   "cell_type": "code",
   "execution_count": 5,
   "metadata": {},
   "outputs": [
    {
     "data": {
      "text/plain": [
       "'tony'"
      ]
     },
     "execution_count": 5,
     "metadata": {},
     "output_type": "execute_result"
    }
   ],
   "source": [
    "class People2b:\n",
    "    def __init__(self, sex: bool, name: str):\n",
    "        self._sex = sex\n",
    "        self._name = name\n",
    "    \n",
    "    def name(self):\n",
    "        return self._name\n",
    "    \n",
    "    name = property(name)\n",
    "\n",
    "\n",
    "p2b = People2b(sex=True, name='tony')\n",
    "p2b.name  # 使用 特性(property)"
   ]
  },
  {
   "cell_type": "code",
   "execution_count": 6,
   "metadata": {},
   "outputs": [
    {
     "data": {
      "text/plain": [
       "'tony'"
      ]
     },
     "execution_count": 6,
     "metadata": {},
     "output_type": "execute_result"
    }
   ],
   "source": [
    "class People2c:\n",
    "    def __init__(self, sex: bool, name: str):\n",
    "        self._sex = sex\n",
    "        self._name = name\n",
    "    \n",
    "    # @xxxx 本身是個 decorator, 他可以來改變底下 方法 的行為\n",
    "    @property\n",
    "    def name(self):\n",
    "        return self._name\n",
    "\n",
    "\n",
    "p2c = People2c(sex=True, name='tony')\n",
    "p2c.name  # 使用 特性(property)"
   ]
  },
  {
   "cell_type": "code",
   "execution_count": 7,
   "metadata": {},
   "outputs": [
    {
     "data": {
      "text/plain": [
       "'Leo'"
      ]
     },
     "execution_count": 7,
     "metadata": {},
     "output_type": "execute_result"
    }
   ],
   "source": [
    "class People2d:\n",
    "    def __init__(self, sex: bool, name: str):\n",
    "        self._sex = sex\n",
    "        self._name = name\n",
    "    \n",
    "    # @xxxx 本身是個 decorator, 他可以來改變底下 方法 的行為\n",
    "    @property\n",
    "    def name(self):\n",
    "        return self._name\n",
    "    \n",
    "    @name.setter\n",
    "    def name(self, name):\n",
    "        self._name = name\n",
    "\n",
    "\n",
    "p2d = People2d(sex=True, name='tony')\n",
    "p2d.name = \"Leo\"\n",
    "\n",
    "p2d.name"
   ]
  },
  {
   "cell_type": "code",
   "execution_count": 8,
   "metadata": {},
   "outputs": [
    {
     "data": {
      "text/plain": [
       "150"
      ]
     },
     "execution_count": 8,
     "metadata": {},
     "output_type": "execute_result"
    }
   ],
   "source": [
    "class Car:\n",
    "    def __init__(self):\n",
    "        self._speed = 0\n",
    "        \n",
    "    def acc(self, step):\n",
    "        if self._speed + step > 150:\n",
    "            self._speed = 150\n",
    "        else:\n",
    "            self._speed += step\n",
    "            \n",
    "    @property\n",
    "    def speed(self):\n",
    "        return self._speed\n",
    "\n",
    "        \n",
    "c = Car()\n",
    "c.acc(50)\n",
    "c._speed\n",
    "c.acc(200)\n",
    "c._speed"
   ]
  },
  {
   "cell_type": "code",
   "execution_count": 9,
   "metadata": {},
   "outputs": [
    {
     "data": {
      "text/plain": [
       "150"
      ]
     },
     "execution_count": 9,
     "metadata": {},
     "output_type": "execute_result"
    }
   ],
   "source": [
    "class Car:\n",
    "    def __init__(self):\n",
    "        self._speed = 0\n",
    "            \n",
    "    @property\n",
    "    def speed(self):\n",
    "        return self._speed\n",
    "\n",
    "    @speed.setter\n",
    "    def speed(self, step):\n",
    "        if self._speed + step > 150:\n",
    "            self._speed = 150\n",
    "        else:\n",
    "            self._speed += step\n",
    "    \n",
    "        \n",
    "c = Car()\n",
    "c.speed = 200\n",
    "c.speed"
   ]
  },
  {
   "cell_type": "markdown",
   "metadata": {},
   "source": [
    "---"
   ]
  },
  {
   "cell_type": "markdown",
   "metadata": {},
   "source": [
    "## static method && class method"
   ]
  },
  {
   "cell_type": "code",
   "execution_count": 10,
   "metadata": {},
   "outputs": [
    {
     "data": {
      "text/plain": [
       "10"
      ]
     },
     "execution_count": 10,
     "metadata": {},
     "output_type": "execute_result"
    }
   ],
   "source": [
    "class Car:\n",
    "    def __init__(self, name: str, size: int = 10):\n",
    "        self._name = name\n",
    "        self._size = size\n",
    "        \n",
    "    def size(self):\n",
    "        \"\"\"instance method\"\"\"\n",
    "        return self._size\n",
    "    \n",
    "c = Car(name='toyota', size=10)\n",
    "c.size()  # 呼叫 instance method"
   ]
  },
  {
   "cell_type": "code",
   "execution_count": 11,
   "metadata": {
    "scrolled": false
   },
   "outputs": [
    {
     "data": {
      "text/plain": [
       "10"
      ]
     },
     "execution_count": 11,
     "metadata": {},
     "output_type": "execute_result"
    }
   ],
   "source": [
    "class Car:\n",
    "    _size: int = 10\n",
    "        \n",
    "    @classmethod\n",
    "    def size(cls):\n",
    "        return cls._size\n",
    "\n",
    "\n",
    "Car.size()"
   ]
  },
  {
   "cell_type": "code",
   "execution_count": 12,
   "metadata": {},
   "outputs": [
    {
     "data": {
      "text/plain": [
       "10"
      ]
     },
     "execution_count": 12,
     "metadata": {},
     "output_type": "execute_result"
    }
   ],
   "source": [
    "class Car:\n",
    "    _size: int = 10\n",
    "        \n",
    "    def size(self):\n",
    "        return self._size\n",
    "\n",
    "\n",
    "c = Car()\n",
    "c.size()"
   ]
  },
  {
   "cell_type": "code",
   "execution_count": 13,
   "metadata": {},
   "outputs": [],
   "source": [
    "from datetime import datetime, timedelta"
   ]
  },
  {
   "cell_type": "code",
   "execution_count": 14,
   "metadata": {},
   "outputs": [
    {
     "data": {
      "text/plain": [
       "'2020-09-01'"
      ]
     },
     "execution_count": 14,
     "metadata": {},
     "output_type": "execute_result"
    }
   ],
   "source": [
    "class DateTimeTools:\n",
    "    def first_day_of_month(self, dt: datetime):\n",
    "        return datetime.strftime(dt, \"%Y-%m-01\")\n",
    "\n",
    "    \n",
    "a = DateTimeTools()\n",
    "dt = datetime(2020, 9, 21)\n",
    "a.first_day_of_month(dt=dt)"
   ]
  },
  {
   "cell_type": "code",
   "execution_count": 15,
   "metadata": {},
   "outputs": [
    {
     "name": "stdout",
     "output_type": "stream",
     "text": [
      "2019-03-01\n",
      "2019-03-31\n"
     ]
    }
   ],
   "source": [
    "class DateTimeTools:\n",
    "    def __init__(self, dt: datetime):\n",
    "        self._dt = dt\n",
    "        \n",
    "    def first_day_of_month(self):\n",
    "        return datetime.strftime(self._dt, \"%Y-%m-01\")\n",
    "    \n",
    "    def last_day_of_month(self):\n",
    "        \"\"\"底下寫法非常糟糕, 而且超有可能會出錯, 但暫時先把它當成是沒有BUG的寫法...\"\"\"\n",
    "        return datetime.strftime(datetime.strptime(datetime.strftime(\n",
    "            self._dt + timedelta(days=30), \"%Y-%m-01\"), \"%Y-%m-%d\") + timedelta(days=-1), \"%Y-%m-%d\")\n",
    "\n",
    "\n",
    "dt = datetime(2019, 3, 3)\n",
    "a = DateTimeTools(dt=dt)\n",
    "\n",
    "print(a.first_day_of_month())\n",
    "print(a.last_day_of_month())"
   ]
  },
  {
   "cell_type": "code",
   "execution_count": 16,
   "metadata": {
    "scrolled": true
   },
   "outputs": [
    {
     "data": {
      "text/plain": [
       "'2020-09-01'"
      ]
     },
     "execution_count": 16,
     "metadata": {},
     "output_type": "execute_result"
    }
   ],
   "source": [
    "class DateTimeTools:\n",
    "    @classmethod\n",
    "    def first_day_of_month(cls, dt: datetime):\n",
    "        return datetime.strftime(dt, \"%Y-%m-01\")\n",
    "\n",
    "\n",
    "dt = datetime(2020, 9, 21)\n",
    "DateTimeTools.first_day_of_month(dt=dt)"
   ]
  },
  {
   "cell_type": "code",
   "execution_count": 17,
   "metadata": {},
   "outputs": [
    {
     "data": {
      "text/plain": [
       "'2020-09-01'"
      ]
     },
     "execution_count": 17,
     "metadata": {},
     "output_type": "execute_result"
    }
   ],
   "source": [
    "class DateTimeTools:\n",
    "    @staticmethod\n",
    "    def first_day_of_month(dt: datetime):\n",
    "        return datetime.strftime(dt, \"%Y-%m-01\")\n",
    "\n",
    "\n",
    "dt = datetime(2020, 9, 21)\n",
    "DateTimeTools.first_day_of_month(dt=dt)"
   ]
  },
  {
   "cell_type": "code",
   "execution_count": null,
   "metadata": {},
   "outputs": [],
   "source": []
  },
  {
   "cell_type": "code",
   "execution_count": null,
   "metadata": {},
   "outputs": [],
   "source": []
  },
  {
   "cell_type": "code",
   "execution_count": 18,
   "metadata": {},
   "outputs": [],
   "source": [
    "class DateTimeTools:\n",
    "    def __init__(self, dt: datetime):\n",
    "        self._dt = dt\n",
    "        \n",
    "    def first_day_of_month(self):\n",
    "        return datetime.strftime(self._dt, \"%Y-%m-01\")\n",
    "    \n",
    "def last_day_of_month(self):\n",
    "    \"\"\"底下寫法非常糟糕, 而且超有可能會出錯, 但暫時先把它當成是沒有BUG的寫法...\"\"\"\n",
    "    return datetime.strftime(datetime.strptime(datetime.strftime(\n",
    "        self._dt + timedelta(days=30), \"%Y-%m-01\"), \"%Y-%m-%d\") + timedelta(days=-1), \"%Y-%m-%d\")\n",
    "\n",
    "DateTimeTools.last_day_of_month = last_day_of_month"
   ]
  },
  {
   "cell_type": "code",
   "execution_count": 19,
   "metadata": {},
   "outputs": [],
   "source": [
    "class DateTimeTools:\n",
    "    def __init__(self, dt: datetime):\n",
    "        self._dt = dt\n",
    "        \n",
    "    def first_day_of_month(self):\n",
    "        return datetime.strftime(self._dt, \"%Y-%m-01\")\n",
    "    \n",
    "    def last_day_of_month(self):\n",
    "        \"\"\"底下寫法非常糟糕, 而且超有可能會出錯, 但暫時先把它當成是沒有BUG的寫法...\"\"\"\n",
    "        return datetime.strftime(datetime.strptime(datetime.strftime(\n",
    "            self._dt + timedelta(days=30), \"%Y-%m-01\"), \"%Y-%m-%d\") + timedelta(days=-1), \"%Y-%m-%d\")"
   ]
  },
  {
   "cell_type": "code",
   "execution_count": null,
   "metadata": {},
   "outputs": [],
   "source": []
  }
 ],
 "metadata": {
  "kernelspec": {
   "display_name": "Python 3.7.5 64-bit ('venv': venv)",
   "language": "python",
   "name": "python37564bitvenvvenvebce56acb61a448685f47c85493d7114"
  },
  "language_info": {
   "codemirror_mode": {
    "name": "ipython",
    "version": 3
   },
   "file_extension": ".py",
   "mimetype": "text/x-python",
   "name": "python",
   "nbconvert_exporter": "python",
   "pygments_lexer": "ipython3",
   "version": "3.7.5"
  }
 },
 "nbformat": 4,
 "nbformat_minor": 2
}
