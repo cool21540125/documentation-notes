{
 "cells": [
  {
   "cell_type": "markdown",
   "metadata": {},
   "source": [
    "# itertools"
   ]
  },
  {
   "cell_type": "code",
   "execution_count": 19,
   "metadata": {},
   "outputs": [],
   "source": [
    "import itertools"
   ]
  },
  {
   "cell_type": "markdown",
   "metadata": {},
   "source": [
    "### itertools.cycle"
   ]
  },
  {
   "cell_type": "code",
   "execution_count": 5,
   "metadata": {},
   "outputs": [
    {
     "name": "stdout",
     "output_type": "stream",
     "text": [
      "1 Tony\n",
      "2 Julia\n",
      "3 Susan\n",
      "4 Tony\n",
      "5 Julia\n",
      "6 Susan\n",
      "7 Tony\n"
     ]
    }
   ],
   "source": [
    "count = 1\n",
    "for idx, item in enumerate(itertools.cycle(['Tony', 'Julia', 'Susan'])):\n",
    "    print(count, item)\n",
    "    if count == 7:\n",
    "        break\n",
    "    count += 1"
   ]
  },
  {
   "cell_type": "markdown",
   "metadata": {},
   "source": [
    "### itertools.filterfalse\n",
    "- 假如 data 裡面沒有 habits, 會報錯..."
   ]
  },
  {
   "cell_type": "code",
   "execution_count": 25,
   "metadata": {},
   "outputs": [
    {
     "name": "stdout",
     "output_type": "stream",
     "text": [
      "{'id': 4, 'habits': []}\n"
     ]
    }
   ],
   "source": [
    "data = [\n",
    "    {'id': 1, 'habits': ['climbing', 'hiking']},\n",
    "    {'id': 2, 'habits': ['reading']},\n",
    "    {'id': 3, 'habits': ['dancing', 'climbing']},\n",
    "    {'id': 4, 'habits': []},\n",
    "    {'id': 5, 'habits': ['swimming']},\n",
    "]\n",
    "for user in itertools.filterfalse(lambda d: d['habits'], data):\n",
    "    print(user)"
   ]
  },
  {
   "cell_type": "markdown",
   "metadata": {},
   "source": [
    "### itertools.groupby\n",
    "- 假如 data 裡沒先按照 group 排序, 會導致一樣的東西被歸類到不同群組 (ex: 底下的 湖人)"
   ]
  },
  {
   "cell_type": "code",
   "execution_count": 29,
   "metadata": {},
   "outputs": [
    {
     "name": "stdout",
     "output_type": "stream",
     "text": [
      "暴龍 [{'id': 1, 'group': '暴龍'}, {'id': 2, 'group': '暴龍'}]\n",
      "湖人 [{'id': 3, 'group': '湖人'}]\n",
      "馬刺 [{'id': 4, 'group': '馬刺'}]\n",
      "湖人 [{'id': 5, 'group': '湖人'}, {'id': 6, 'group': '湖人'}]\n"
     ]
    }
   ],
   "source": [
    "data = [\n",
    "    {'id': 1, 'group': '暴龍'},\n",
    "    {'id': 2, 'group': '暴龍'},\n",
    "    {'id': 3, 'group': '湖人'},\n",
    "    {'id': 4, 'group': '馬刺'},\n",
    "    {'id': 5, 'group': '湖人'},\n",
    "    {'id': 6, 'group': '湖人'},\n",
    "]\n",
    "for group, member in itertools.groupby(data, lambda x: x['group']):\n",
    "    print(group, list(member))"
   ]
  },
  {
   "cell_type": "markdown",
   "metadata": {},
   "source": [
    "### itertools.product\n",
    "- product 可以用來接收 多個 iterable 當成參數"
   ]
  },
  {
   "cell_type": "code",
   "execution_count": 33,
   "metadata": {
    "scrolled": true
   },
   "outputs": [
    {
     "name": "stdout",
     "output_type": "stream",
     "text": [
      "2 x 2 = 4\n",
      "2 x 3 = 6\n",
      "2 x 4 = 8\n",
      "2 x 5 = 10\n",
      "2 x 6 = 12\n",
      "2 x 7 = 14\n",
      "2 x 8 = 16\n",
      "2 x 9 = 18\n",
      "3 x 2 = 6\n",
      "3 x 3 = 9\n",
      "3 x 4 = 12\n",
      "3 x 5 = 15\n",
      "3 x 6 = 18\n",
      "3 x 7 = 21\n",
      "3 x 8 = 24\n",
      "3 x 9 = 27\n",
      "4 x 2 = 8\n",
      "4 x 3 = 12\n",
      "4 x 4 = 16\n",
      "4 x 5 = 20\n",
      "4 x 6 = 24\n",
      "4 x 7 = 28\n",
      "4 x 8 = 32\n",
      "4 x 9 = 36\n",
      "5 x 2 = 10\n",
      "5 x 3 = 15\n",
      "5 x 4 = 20\n",
      "5 x 5 = 25\n",
      "5 x 6 = 30\n",
      "5 x 7 = 35\n",
      "5 x 8 = 40\n",
      "5 x 9 = 45\n",
      "6 x 2 = 12\n",
      "6 x 3 = 18\n",
      "6 x 4 = 24\n",
      "6 x 5 = 30\n",
      "6 x 6 = 36\n",
      "6 x 7 = 42\n",
      "6 x 8 = 48\n",
      "6 x 9 = 54\n",
      "7 x 2 = 14\n",
      "7 x 3 = 21\n",
      "7 x 4 = 28\n",
      "7 x 5 = 35\n",
      "7 x 6 = 42\n",
      "7 x 7 = 49\n",
      "7 x 8 = 56\n",
      "7 x 9 = 63\n",
      "8 x 2 = 16\n",
      "8 x 3 = 24\n",
      "8 x 4 = 32\n",
      "8 x 5 = 40\n",
      "8 x 6 = 48\n",
      "8 x 7 = 56\n",
      "8 x 8 = 64\n",
      "8 x 9 = 72\n",
      "9 x 2 = 18\n",
      "9 x 3 = 27\n",
      "9 x 4 = 36\n",
      "9 x 5 = 45\n",
      "9 x 6 = 54\n",
      "9 x 7 = 63\n",
      "9 x 8 = 72\n",
      "9 x 9 = 81\n"
     ]
    }
   ],
   "source": [
    "for x, y in itertools.product(range(2, 10), range(2, 10)):\n",
    "    print(f\"{x} x {y} = {x*y}\")"
   ]
  },
  {
   "cell_type": "code",
   "execution_count": null,
   "metadata": {},
   "outputs": [],
   "source": []
  },
  {
   "cell_type": "code",
   "execution_count": null,
   "metadata": {},
   "outputs": [],
   "source": []
  }
 ],
 "metadata": {
  "kernelspec": {
   "display_name": "Python 3.7.5 64-bit ('venv': venv)",
   "language": "python",
   "name": "python37564bitvenvvenvebce56acb61a448685f47c85493d7114"
  },
  "language_info": {
   "codemirror_mode": {
    "name": "ipython",
    "version": 3
   },
   "file_extension": ".py",
   "mimetype": "text/x-python",
   "name": "python",
   "nbconvert_exporter": "python",
   "pygments_lexer": "ipython3",
   "version": "3.7.5"
  }
 },
 "nbformat": 4,
 "nbformat_minor": 2
}
