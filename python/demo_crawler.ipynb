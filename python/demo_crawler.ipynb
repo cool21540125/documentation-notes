{
 "cells": [
  {
   "cell_type": "code",
   "execution_count": 1,
   "metadata": {},
   "outputs": [],
   "source": [
    "import requests\n",
    "import lxml\n",
    "from bs4 import BeautifulSoup"
   ]
  },
  {
   "cell_type": "code",
   "execution_count": 33,
   "metadata": {},
   "outputs": [],
   "source": [
    "# url = 'https://www.ptt.cc/bbs/Gossiping/index.html'\n",
    "url = 'https://www.ptt.cc/bbs/Beauty/index.html'\n",
    "base_url = 'https://www.ptt.cc'"
   ]
  },
  {
   "cell_type": "code",
   "execution_count": 3,
   "metadata": {},
   "outputs": [],
   "source": [
    "headers = {'cookie': 'over18=1;'}\n",
    "# headers = {'cookie': '_ga=GA1.2.355172031.1586611304; __cfduid=d1f0a7b3bb689bf6ddee45eeecde60b801599461161; _gid=GA1.2.1921653924.1599461162; over18=1; __cf_bm=e080473e639dd930d0e9cebfb2c6aefe1b29fcc0-1599462142-1800-Ac05RLdNAcrBWMNX+syEG74BMVtuDro3/8wxMhs1AlIjMt5k7iKbL/63iVvDfk5GxRyv2GDV57VFFjvH19vDfTk='}"
   ]
  },
  {
   "cell_type": "code",
   "execution_count": 4,
   "metadata": {
    "scrolled": true
   },
   "outputs": [],
   "source": [
    "res = requests.get(url, headers=headers)\n",
    "# res = requests.get(url)\n"
   ]
  },
  {
   "cell_type": "code",
   "execution_count": 19,
   "metadata": {},
   "outputs": [],
   "source": [
    "soup = BeautifulSoup(res.text, 'lxml')"
   ]
  },
  {
   "cell_type": "code",
   "execution_count": 52,
   "metadata": {},
   "outputs": [
    {
     "data": {
      "text/plain": [
       "bs4.BeautifulSoup"
      ]
     },
     "execution_count": 52,
     "metadata": {},
     "output_type": "execute_result"
    }
   ],
   "source": [
    "type(soup)"
   ]
  },
  {
   "cell_type": "code",
   "execution_count": 23,
   "metadata": {},
   "outputs": [
    {
     "data": {
      "text/plain": [
       "[<div class=\"r-ent\">\n",
       " <div class=\"nrec\"></div>\n",
       " <div class=\"title\">\n",
       " <a href=\"/bbs/Beauty/M.1599461373.A.1EB.html\">[神人] 水手服兩張</a>\n",
       " </div>\n",
       " <div class=\"meta\">\n",
       " <div class=\"author\">pandp</div>\n",
       " <div class=\"article-menu\">\n",
       " <div class=\"trigger\">⋯</div>\n",
       " <div class=\"dropdown\">\n",
       " <div class=\"item\"><a href=\"/bbs/Beauty/search?q=thread%3A%5B%E7%A5%9E%E4%BA%BA%5D+%E6%B0%B4%E6%89%8B%E6%9C%8D%E5%85%A9%E5%BC%B5\">搜尋同標題文章</a></div>\n",
       " <div class=\"item\"><a href=\"/bbs/Beauty/search?q=author%3Apandp\">搜尋看板內 pandp 的文章</a></div>\n",
       " </div>\n",
       " </div>\n",
       " <div class=\"date\"> 9/07</div>\n",
       " <div class=\"mark\"></div>\n",
       " </div>\n",
       " </div>, <div class=\"r-ent\">\n",
       " <div class=\"nrec\"><span class=\"hl f3\">31</span></div>\n",
       " <div class=\"title\">\n",
       " <a href=\"/bbs/Beauty/M.1589282607.A.C87.html\">[公告] 不願上表特 ＆ 優文推薦 ＆ 檢舉建議專區</a>\n",
       " </div>\n",
       " <div class=\"meta\">\n",
       " <div class=\"author\">cu0920</div>\n",
       " <div class=\"article-menu\">\n",
       " <div class=\"trigger\">⋯</div>\n",
       " <div class=\"dropdown\">\n",
       " <div class=\"item\"><a href=\"/bbs/Beauty/search?q=thread%3A%5B%E5%85%AC%E5%91%8A%5D+%E4%B8%8D%E9%A1%98%E4%B8%8A%E8%A1%A8%E7%89%B9+%EF%BC%86+%E5%84%AA%E6%96%87%E6%8E%A8%E8%96%A6+%EF%BC%86+%E6%AA%A2%E8%88%89%E5%BB%BA%E8%AD%B0%E5%B0%88%E5%8D%80\">搜尋同標題文章</a></div>\n",
       " <div class=\"item\"><a href=\"/bbs/Beauty/search?q=author%3Acu0920\">搜尋看板內 cu0920 的文章</a></div>\n",
       " </div>\n",
       " </div>\n",
       " <div class=\"date\"> 5/12</div>\n",
       " <div class=\"mark\">M</div>\n",
       " </div>\n",
       " </div>, <div class=\"r-ent\">\n",
       " <div class=\"nrec\"></div>\n",
       " <div class=\"title\">\n",
       " <a href=\"/bbs/Beauty/M.1563960846.A.05A.html\">Fw: [公告] 請使用者多加注意我國保護兒少的法令</a>\n",
       " </div>\n",
       " <div class=\"meta\">\n",
       " <div class=\"author\">hateOnas</div>\n",
       " <div class=\"article-menu\">\n",
       " <div class=\"trigger\">⋯</div>\n",
       " <div class=\"dropdown\">\n",
       " <div class=\"item\"><a href=\"/bbs/Beauty/search?q=thread%3A%5B%E5%85%AC%E5%91%8A%5D+%E8%AB%8B%E4%BD%BF%E7%94%A8%E8%80%85%E5%A4%9A%E5%8A%A0%E6%B3%A8%E6%84%8F%E6%88%91%E5%9C%8B%E4%BF%9D%E8%AD%B7%E5%85%92%E5%B0%91%E7%9A%84%E6%B3%95%E4%BB%A4\">搜尋同標題文章</a></div>\n",
       " <div class=\"item\"><a href=\"/bbs/Beauty/search?q=author%3AhateOnas\">搜尋看板內 hateOnas 的文章</a></div>\n",
       " </div>\n",
       " </div>\n",
       " <div class=\"date\"> 7/24</div>\n",
       " <div class=\"mark\">!</div>\n",
       " </div>\n",
       " </div>, <div class=\"r-ent\">\n",
       " <div class=\"nrec\"></div>\n",
       " <div class=\"title\">\n",
       " <a href=\"/bbs/Beauty/M.1564114881.A.155.html\">[公告] 表特板板規(2020.3.24)</a>\n",
       " </div>\n",
       " <div class=\"meta\">\n",
       " <div class=\"author\">hateOnas</div>\n",
       " <div class=\"article-menu\">\n",
       " <div class=\"trigger\">⋯</div>\n",
       " <div class=\"dropdown\">\n",
       " <div class=\"item\"><a href=\"/bbs/Beauty/search?q=thread%3A%5B%E5%85%AC%E5%91%8A%5D+%E8%A1%A8%E7%89%B9%E6%9D%BF%E6%9D%BF%E8%A6%8F%282020.3.24%29\">搜尋同標題文章</a></div>\n",
       " <div class=\"item\"><a href=\"/bbs/Beauty/search?q=author%3AhateOnas\">搜尋看板內 hateOnas 的文章</a></div>\n",
       " </div>\n",
       " </div>\n",
       " <div class=\"date\"> 7/26</div>\n",
       " <div class=\"mark\">!</div>\n",
       " </div>\n",
       " </div>, <div class=\"r-ent\">\n",
       " <div class=\"nrec\"><span class=\"hl f3\">17</span></div>\n",
       " <div class=\"title\">\n",
       " <a href=\"/bbs/Beauty/M.1574513001.A.A80.html\">[公告] 請勿意淫推文 </a>\n",
       " </div>\n",
       " <div class=\"meta\">\n",
       " <div class=\"author\">hateOnas</div>\n",
       " <div class=\"article-menu\">\n",
       " <div class=\"trigger\">⋯</div>\n",
       " <div class=\"dropdown\">\n",
       " <div class=\"item\"><a href=\"/bbs/Beauty/search?q=thread%3A%5B%E5%85%AC%E5%91%8A%5D+%E8%AB%8B%E5%8B%BF%E6%84%8F%E6%B7%AB%E6%8E%A8%E6%96%87+\">搜尋同標題文章</a></div>\n",
       " <div class=\"item\"><a href=\"/bbs/Beauty/search?q=author%3AhateOnas\">搜尋看板內 hateOnas 的文章</a></div>\n",
       " </div>\n",
       " </div>\n",
       " <div class=\"date\">11/23</div>\n",
       " <div class=\"mark\">!</div>\n",
       " </div>\n",
       " </div>, <div class=\"r-ent\">\n",
       " <div class=\"nrec\"><span class=\"hl f0\">X5</span></div>\n",
       " <div class=\"title\">\n",
       " <a href=\"/bbs/Beauty/M.1591064554.A.236.html\">[公告] 神記者請先搜尋板上</a>\n",
       " </div>\n",
       " <div class=\"meta\">\n",
       " <div class=\"author\">hateOnas</div>\n",
       " <div class=\"article-menu\">\n",
       " <div class=\"trigger\">⋯</div>\n",
       " <div class=\"dropdown\">\n",
       " <div class=\"item\"><a href=\"/bbs/Beauty/search?q=thread%3A%5B%E5%85%AC%E5%91%8A%5D+%E7%A5%9E%E8%A8%98%E8%80%85%E8%AB%8B%E5%85%88%E6%90%9C%E5%B0%8B%E6%9D%BF%E4%B8%8A\">搜尋同標題文章</a></div>\n",
       " <div class=\"item\"><a href=\"/bbs/Beauty/search?q=author%3AhateOnas\">搜尋看板內 hateOnas 的文章</a></div>\n",
       " </div>\n",
       " </div>\n",
       " <div class=\"date\"> 6/02</div>\n",
       " <div class=\"mark\">M</div>\n",
       " </div>\n",
       " </div>]"
      ]
     },
     "execution_count": 23,
     "metadata": {},
     "output_type": "execute_result"
    }
   ],
   "source": [
    "g = q.select('div.r-ent')\n",
    "g"
   ]
  },
  {
   "cell_type": "code",
   "execution_count": 53,
   "metadata": {},
   "outputs": [],
   "source": [
    "list_url = []\n",
    "for i in g:\n",
    "    aa = i.select('a')[0]['href']\n",
    "    combined = base_url + aa\n",
    "    list_url.append(combined)"
   ]
  },
  {
   "cell_type": "code",
   "execution_count": 54,
   "metadata": {},
   "outputs": [
    {
     "data": {
      "text/plain": [
       "['https://www.ptt.cc/bbs/Beauty/M.1599461373.A.1EB.html',\n",
       " 'https://www.ptt.cc/bbs/Beauty/M.1589282607.A.C87.html',\n",
       " 'https://www.ptt.cc/bbs/Beauty/M.1563960846.A.05A.html',\n",
       " 'https://www.ptt.cc/bbs/Beauty/M.1564114881.A.155.html',\n",
       " 'https://www.ptt.cc/bbs/Beauty/M.1574513001.A.A80.html',\n",
       " 'https://www.ptt.cc/bbs/Beauty/M.1591064554.A.236.html']"
      ]
     },
     "execution_count": 54,
     "metadata": {},
     "output_type": "execute_result"
    }
   ],
   "source": [
    "list_url"
   ]
  },
  {
   "cell_type": "code",
   "execution_count": 56,
   "metadata": {},
   "outputs": [],
   "source": [
    "res2 = requests.get(list_url[0], headers=headers)\n"
   ]
  },
  {
   "cell_type": "code",
   "execution_count": 57,
   "metadata": {
    "scrolled": true
   },
   "outputs": [
    {
     "data": {
      "text/plain": [
       "<!DOCTYPE html>\n",
       "<html>\n",
       "<head>\n",
       "<meta charset=\"utf-8\"/>\n",
       "<meta content=\"width=device-width, initial-scale=1\" name=\"viewport\"/>\n",
       "<title>[神人] 水手服兩張 - 看板 Beauty - 批踢踢實業坊</title>\n",
       "<meta content=\"all\" name=\"robots\"/>\n",
       "<meta content=\"Ptt BBS 批踢踢\" name=\"keywords\"/>\n",
       "<meta content=\"其他圖有廣告修不掉，就放這兩張，請問有神人知道右一是誰嗎？\n",
       "謝謝\n",
       "https://i.imgur.com/M51MuDB.jpg\n",
       "https://i.imgur.com/tP6OVGB.jpg\n",
       "--\n",
       "\" name=\"description\"/>\n",
       "<meta content=\"Ptt 批踢踢實業坊\" property=\"og:site_name\"/>\n",
       "<meta content=\"[神人] 水手服兩張\" property=\"og:title\"/>\n",
       "<meta content=\"其他圖有廣告修不掉，就放這兩張，請問有神人知道右一是誰嗎？\n",
       "謝謝\n",
       "https://i.imgur.com/M51MuDB.jpg\n",
       "https://i.imgur.com/tP6OVGB.jpg\n",
       "--\n",
       "\" property=\"og:description\"/>\n",
       "<link href=\"https://www.ptt.cc/bbs/Beauty/M.1599461373.A.1EB.html\" rel=\"canonical\"/>\n",
       "<link href=\"//images.ptt.cc/bbs/v2.27/bbs-common.css\" rel=\"stylesheet\" type=\"text/css\"/>\n",
       "<link href=\"//images.ptt.cc/bbs/v2.27/bbs-base.css\" media=\"screen\" rel=\"stylesheet\" type=\"text/css\"/>\n",
       "<link href=\"//images.ptt.cc/bbs/v2.27/bbs-custom.css\" rel=\"stylesheet\" type=\"text/css\"/>\n",
       "<link href=\"//images.ptt.cc/bbs/v2.27/pushstream.css\" media=\"screen\" rel=\"stylesheet\" type=\"text/css\"/>\n",
       "<link href=\"//images.ptt.cc/bbs/v2.27/bbs-print.css\" media=\"print\" rel=\"stylesheet\" type=\"text/css\"/>\n",
       "</head>\n",
       "<body>\n",
       "<div id=\"topbar-container\">\n",
       "<div class=\"bbs-content\" id=\"topbar\">\n",
       "<a href=\"/bbs/\" id=\"logo\">批踢踢實業坊</a>\n",
       "<span>›</span>\n",
       "<a class=\"board\" href=\"/bbs/Beauty/index.html\"><span class=\"board-label\">看板 </span>Beauty</a>\n",
       "<a class=\"right small\" href=\"/about.html\">關於我們</a>\n",
       "<a class=\"right small\" href=\"/contact.html\">聯絡資訊</a>\n",
       "</div>\n",
       "</div>\n",
       "<div id=\"navigation-container\">\n",
       "<div class=\"bbs-content\" id=\"navigation\">\n",
       "<a class=\"board\" href=\"/bbs/Beauty/index.html\">返回看板</a>\n",
       "<div class=\"bar\"></div>\n",
       "</div>\n",
       "</div>\n",
       "<div id=\"main-container\">\n",
       "<div class=\"bbs-screen bbs-content\" id=\"main-content\"><div class=\"article-metaline\"><span class=\"article-meta-tag\">作者</span><span class=\"article-meta-value\">pandp (pppp)</span></div><div class=\"article-metaline-right\"><span class=\"article-meta-tag\">看板</span><span class=\"article-meta-value\">Beauty</span></div><div class=\"article-metaline\"><span class=\"article-meta-tag\">標題</span><span class=\"article-meta-value\">[神人] 水手服兩張</span></div><div class=\"article-metaline\"><span class=\"article-meta-tag\">時間</span><span class=\"article-meta-value\">Mon Sep  7 14:49:31 2020</span></div>\n",
       "其他圖有廣告修不掉，就放這兩張，請問有神人知道右一是誰嗎？\n",
       "謝謝\n",
       "<a href=\"https://i.imgur.com/M51MuDB.jpg\" rel=\"nofollow\" target=\"_blank\">https://i.imgur.com/M51MuDB.jpg</a>\n",
       "<div class=\"richcontent\"><blockquote class=\"imgur-embed-pub\" data-id=\"M51MuDB\" lang=\"en\"><a href=\"//imgur.com/M51MuDB\"></a></blockquote><script async=\"\" charset=\"utf-8\" src=\"//s.imgur.com/min/embed.js\"></script></div><a href=\"https://i.imgur.com/tP6OVGB.jpg\" rel=\"nofollow\" target=\"_blank\">https://i.imgur.com/tP6OVGB.jpg</a>\n",
       "<div class=\"richcontent\"><blockquote class=\"imgur-embed-pub\" data-id=\"tP6OVGB\" lang=\"en\"><a href=\"//imgur.com/tP6OVGB\"></a></blockquote><script async=\"\" charset=\"utf-8\" src=\"//s.imgur.com/min/embed.js\"></script></div>\n",
       "--\n",
       "<span class=\"f2\">※ 發信站: 批踢踢實業坊(ptt.cc), 來自: 36.239.148.117 (臺灣)\n",
       "</span><span class=\"f2\">※ 文章網址: <a href=\"https://www.ptt.cc/bbs/Beauty/M.1599461373.A.1EB.html\" rel=\"nofollow\" target=\"_blank\">https://www.ptt.cc/bbs/Beauty/M.1599461373.A.1EB.html</a>\n",
       "</span><div class=\"push\"><span class=\"f1 hl push-tag\">→ </span><span class=\"f3 hl push-userid\">content71</span><span class=\"f3 push-content\">: 這哪是水手服</span><span class=\"push-ipdatetime\">  121.7.199.119 09/07 15:23\n",
       "</span></div><div class=\"push\"><span class=\"hl push-tag\">推 </span><span class=\"f3 hl push-userid\">amare1015</span><span class=\"f3 push-content\">: 小孩子才做選擇 我全都要辣</span><span class=\"push-ipdatetime\"> 111.251.141.86 09/07 15:46\n",
       "</span></div><div class=\"push\"><span class=\"f1 hl push-tag\">→ </span><span class=\"f3 hl push-userid\">smallca</span><span class=\"f3 push-content\">: 這不是水手服</span><span class=\"push-ipdatetime\"> 111.240.212.66 09/07 15:53\n",
       "</span></div></div>\n",
       "<div data-longpollurl=\"/v1/longpoll?id=19c5fc083b43d5fd8afcf30870b93ddc5cbdff0b\" data-offset=\"654\" data-pollurl=\"/poll/Beauty/M.1599461373.A.1EB.html?cacheKey=2084-610650198&amp;offset=654&amp;offset-sig=a14ace6af3aec04c7f84dd97422449b702f863a6\" id=\"article-polling\"></div>\n",
       "<div class=\"bbs-screen bbs-footer-message\">本網站已依台灣網站內容分級規定處理。此區域為限制級，未滿十八歲者不得瀏覽。</div>\n",
       "</div>\n",
       "<script>\n",
       "  (function(i,s,o,g,r,a,m){i['GoogleAnalyticsObject']=r;i[r]=i[r]||function(){\n",
       "  (i[r].q=i[r].q||[]).push(arguments)},i[r].l=1*new Date();a=s.createElement(o),\n",
       "  m=s.getElementsByTagName(o)[0];a.async=1;a.src=g;m.parentNode.insertBefore(a,m)\n",
       "  })(window,document,'script','https://www.google-analytics.com/analytics.js','ga');\n",
       "\n",
       "  ga('create', 'UA-32365737-1', {\n",
       "    cookieDomain: 'ptt.cc',\n",
       "    legacyCookieDomain: 'ptt.cc'\n",
       "  });\n",
       "  ga('send', 'pageview');\n",
       "</script>\n",
       "<script src=\"//ajax.googleapis.com/ajax/libs/jquery/2.1.1/jquery.min.js\"></script>\n",
       "<script src=\"//images.ptt.cc/bbs/v2.27/bbs.js\"></script>\n",
       "</body>\n",
       "</html>"
      ]
     },
     "execution_count": 57,
     "metadata": {},
     "output_type": "execute_result"
    }
   ],
   "source": [
    "soup2 = BeautifulSoup(res2.text, 'lxml')\n",
    "soup2"
   ]
  },
  {
   "cell_type": "code",
   "execution_count": 59,
   "metadata": {},
   "outputs": [
    {
     "data": {
      "text/plain": [
       "[<div id=\"main-container\">\n",
       " <div id=\"action-bar-container\">\n",
       " <div class=\"action-bar\">\n",
       " <div class=\"btn-group btn-group-dir\">\n",
       " <a class=\"btn selected\" href=\"/bbs/Beauty/index.html\">看板</a>\n",
       " <a class=\"btn\" href=\"/man/Beauty/index.html\">精華區</a>\n",
       " </div>\n",
       " <div class=\"btn-group btn-group-paging\">\n",
       " <a class=\"btn wide\" href=\"/bbs/Beauty/index1.html\">最舊</a>\n",
       " <a class=\"btn wide\" href=\"/bbs/Beauty/index3416.html\">‹ 上頁</a>\n",
       " <a class=\"btn wide disabled\">下頁 ›</a>\n",
       " <a class=\"btn wide\" href=\"/bbs/Beauty/index.html\">最新</a>\n",
       " </div>\n",
       " </div>\n",
       " </div>\n",
       " <div class=\"r-list-container action-bar-margin bbs-screen\">\n",
       " <div class=\"search-bar\">\n",
       " <form action=\"search\" id=\"search-bar\" type=\"get\">\n",
       " <input class=\"query\" name=\"q\" placeholder=\"搜尋文章⋯\" type=\"text\" value=\"\"/>\n",
       " </form>\n",
       " </div>\n",
       " <div class=\"r-ent\">\n",
       " <div class=\"nrec\"></div>\n",
       " <div class=\"title\">\n",
       " <a href=\"/bbs/Beauty/M.1599461373.A.1EB.html\">[神人] 水手服兩張</a>\n",
       " </div>\n",
       " <div class=\"meta\">\n",
       " <div class=\"author\">pandp</div>\n",
       " <div class=\"article-menu\">\n",
       " <div class=\"trigger\">⋯</div>\n",
       " <div class=\"dropdown\">\n",
       " <div class=\"item\"><a href=\"/bbs/Beauty/search?q=thread%3A%5B%E7%A5%9E%E4%BA%BA%5D+%E6%B0%B4%E6%89%8B%E6%9C%8D%E5%85%A9%E5%BC%B5\">搜尋同標題文章</a></div>\n",
       " <div class=\"item\"><a href=\"/bbs/Beauty/search?q=author%3Apandp\">搜尋看板內 pandp 的文章</a></div>\n",
       " </div>\n",
       " </div>\n",
       " <div class=\"date\"> 9/07</div>\n",
       " <div class=\"mark\"></div>\n",
       " </div>\n",
       " </div>\n",
       " <div class=\"r-list-sep\"></div>\n",
       " <div class=\"r-ent\">\n",
       " <div class=\"nrec\"><span class=\"hl f3\">31</span></div>\n",
       " <div class=\"title\">\n",
       " <a href=\"/bbs/Beauty/M.1589282607.A.C87.html\">[公告] 不願上表特 ＆ 優文推薦 ＆ 檢舉建議專區</a>\n",
       " </div>\n",
       " <div class=\"meta\">\n",
       " <div class=\"author\">cu0920</div>\n",
       " <div class=\"article-menu\">\n",
       " <div class=\"trigger\">⋯</div>\n",
       " <div class=\"dropdown\">\n",
       " <div class=\"item\"><a href=\"/bbs/Beauty/search?q=thread%3A%5B%E5%85%AC%E5%91%8A%5D+%E4%B8%8D%E9%A1%98%E4%B8%8A%E8%A1%A8%E7%89%B9+%EF%BC%86+%E5%84%AA%E6%96%87%E6%8E%A8%E8%96%A6+%EF%BC%86+%E6%AA%A2%E8%88%89%E5%BB%BA%E8%AD%B0%E5%B0%88%E5%8D%80\">搜尋同標題文章</a></div>\n",
       " <div class=\"item\"><a href=\"/bbs/Beauty/search?q=author%3Acu0920\">搜尋看板內 cu0920 的文章</a></div>\n",
       " </div>\n",
       " </div>\n",
       " <div class=\"date\"> 5/12</div>\n",
       " <div class=\"mark\">M</div>\n",
       " </div>\n",
       " </div>\n",
       " <div class=\"r-ent\">\n",
       " <div class=\"nrec\"></div>\n",
       " <div class=\"title\">\n",
       " <a href=\"/bbs/Beauty/M.1563960846.A.05A.html\">Fw: [公告] 請使用者多加注意我國保護兒少的法令</a>\n",
       " </div>\n",
       " <div class=\"meta\">\n",
       " <div class=\"author\">hateOnas</div>\n",
       " <div class=\"article-menu\">\n",
       " <div class=\"trigger\">⋯</div>\n",
       " <div class=\"dropdown\">\n",
       " <div class=\"item\"><a href=\"/bbs/Beauty/search?q=thread%3A%5B%E5%85%AC%E5%91%8A%5D+%E8%AB%8B%E4%BD%BF%E7%94%A8%E8%80%85%E5%A4%9A%E5%8A%A0%E6%B3%A8%E6%84%8F%E6%88%91%E5%9C%8B%E4%BF%9D%E8%AD%B7%E5%85%92%E5%B0%91%E7%9A%84%E6%B3%95%E4%BB%A4\">搜尋同標題文章</a></div>\n",
       " <div class=\"item\"><a href=\"/bbs/Beauty/search?q=author%3AhateOnas\">搜尋看板內 hateOnas 的文章</a></div>\n",
       " </div>\n",
       " </div>\n",
       " <div class=\"date\"> 7/24</div>\n",
       " <div class=\"mark\">!</div>\n",
       " </div>\n",
       " </div>\n",
       " <div class=\"r-ent\">\n",
       " <div class=\"nrec\"></div>\n",
       " <div class=\"title\">\n",
       " <a href=\"/bbs/Beauty/M.1564114881.A.155.html\">[公告] 表特板板規(2020.3.24)</a>\n",
       " </div>\n",
       " <div class=\"meta\">\n",
       " <div class=\"author\">hateOnas</div>\n",
       " <div class=\"article-menu\">\n",
       " <div class=\"trigger\">⋯</div>\n",
       " <div class=\"dropdown\">\n",
       " <div class=\"item\"><a href=\"/bbs/Beauty/search?q=thread%3A%5B%E5%85%AC%E5%91%8A%5D+%E8%A1%A8%E7%89%B9%E6%9D%BF%E6%9D%BF%E8%A6%8F%282020.3.24%29\">搜尋同標題文章</a></div>\n",
       " <div class=\"item\"><a href=\"/bbs/Beauty/search?q=author%3AhateOnas\">搜尋看板內 hateOnas 的文章</a></div>\n",
       " </div>\n",
       " </div>\n",
       " <div class=\"date\"> 7/26</div>\n",
       " <div class=\"mark\">!</div>\n",
       " </div>\n",
       " </div>\n",
       " <div class=\"r-ent\">\n",
       " <div class=\"nrec\"><span class=\"hl f3\">17</span></div>\n",
       " <div class=\"title\">\n",
       " <a href=\"/bbs/Beauty/M.1574513001.A.A80.html\">[公告] 請勿意淫推文 </a>\n",
       " </div>\n",
       " <div class=\"meta\">\n",
       " <div class=\"author\">hateOnas</div>\n",
       " <div class=\"article-menu\">\n",
       " <div class=\"trigger\">⋯</div>\n",
       " <div class=\"dropdown\">\n",
       " <div class=\"item\"><a href=\"/bbs/Beauty/search?q=thread%3A%5B%E5%85%AC%E5%91%8A%5D+%E8%AB%8B%E5%8B%BF%E6%84%8F%E6%B7%AB%E6%8E%A8%E6%96%87+\">搜尋同標題文章</a></div>\n",
       " <div class=\"item\"><a href=\"/bbs/Beauty/search?q=author%3AhateOnas\">搜尋看板內 hateOnas 的文章</a></div>\n",
       " </div>\n",
       " </div>\n",
       " <div class=\"date\">11/23</div>\n",
       " <div class=\"mark\">!</div>\n",
       " </div>\n",
       " </div>\n",
       " <div class=\"r-ent\">\n",
       " <div class=\"nrec\"><span class=\"hl f0\">X5</span></div>\n",
       " <div class=\"title\">\n",
       " <a href=\"/bbs/Beauty/M.1591064554.A.236.html\">[公告] 神記者請先搜尋板上</a>\n",
       " </div>\n",
       " <div class=\"meta\">\n",
       " <div class=\"author\">hateOnas</div>\n",
       " <div class=\"article-menu\">\n",
       " <div class=\"trigger\">⋯</div>\n",
       " <div class=\"dropdown\">\n",
       " <div class=\"item\"><a href=\"/bbs/Beauty/search?q=thread%3A%5B%E5%85%AC%E5%91%8A%5D+%E7%A5%9E%E8%A8%98%E8%80%85%E8%AB%8B%E5%85%88%E6%90%9C%E5%B0%8B%E6%9D%BF%E4%B8%8A\">搜尋同標題文章</a></div>\n",
       " <div class=\"item\"><a href=\"/bbs/Beauty/search?q=author%3AhateOnas\">搜尋看板內 hateOnas 的文章</a></div>\n",
       " </div>\n",
       " </div>\n",
       " <div class=\"date\"> 6/02</div>\n",
       " <div class=\"mark\">M</div>\n",
       " </div>\n",
       " </div>\n",
       " </div>\n",
       " <div class=\"bbs-screen bbs-footer-message\">本網站已依台灣網站內容分級規定處理。此區域為限制級，未滿十八歲者不得瀏覽。</div>\n",
       " </div>]"
      ]
     },
     "execution_count": 59,
     "metadata": {},
     "output_type": "execute_result"
    }
   ],
   "source": [
    "soup.select('#main-container')"
   ]
  }
 ],
 "metadata": {
  "kernelspec": {
   "display_name": "Python 3",
   "language": "python",
   "name": "python3"
  },
  "language_info": {
   "codemirror_mode": {
    "name": "ipython",
    "version": 3
   },
   "file_extension": ".py",
   "mimetype": "text/x-python",
   "name": "python",
   "nbconvert_exporter": "python",
   "pygments_lexer": "ipython3",
   "version": "3.7.5"
  }
 },
 "nbformat": 4,
 "nbformat_minor": 2
}
