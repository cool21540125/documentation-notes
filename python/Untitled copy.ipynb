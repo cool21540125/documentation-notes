{
 "cells": [
  {
   "cell_type": "markdown",
   "metadata": {},
   "source": [
    "# functools 模組"
   ]
  },
  {
   "cell_type": "markdown",
   "metadata": {},
   "source": [
    "Signiture: `partial(callable_func, *a, **k) -> callable_func_p`"
   ]
  },
  {
   "cell_type": "code",
   "execution_count": 6,
   "metadata": {
    "tags": []
   },
   "outputs": [],
   "source": [
    "import functools\n",
    "\n",
    "# 要把 L 裡面, 為負值的都改成 0\n",
    "L = [-1, 1, 8, 9, -6, 0, -2]"
   ]
  },
  {
   "cell_type": "code",
   "execution_count": 10,
   "metadata": {},
   "outputs": [
    {
     "output_type": "execute_result",
     "data": {
      "text/plain": "[0, 1, 8, 9, 0, 0, 0]"
     },
     "metadata": {},
     "execution_count": 10
    }
   ],
   "source": [
    "list(map(functools.partial(max, 0), L))"
   ]
  },
  {
   "cell_type": "code",
   "execution_count": 11,
   "metadata": {},
   "outputs": [
    {
     "output_type": "execute_result",
     "data": {
      "text/plain": "[0, 1, 8, 9, 0, 0, 0]"
     },
     "metadata": {},
     "execution_count": 11
    }
   ],
   "source": [
    "list(map(lambda x: max(0, x), L))"
   ]
  },
  {
   "cell_type": "code",
   "execution_count": 9,
   "metadata": {},
   "outputs": [
    {
     "output_type": "execute_result",
     "data": {
      "text/plain": "[0, 1, 8, 9, 0, 0, 0]"
     },
     "metadata": {},
     "execution_count": 9
    }
   ],
   "source": [
    "[max(0, x) for x in L]"
   ]
  }
 ],
 "metadata": {
  "kernelspec": {
   "display_name": "Python 3",
   "language": "python",
   "name": "python3"
  },
  "language_info": {
   "codemirror_mode": {
    "name": "ipython",
    "version": 3
   },
   "file_extension": ".py",
   "mimetype": "text/x-python",
   "name": "python",
   "nbconvert_exporter": "python",
   "pygments_lexer": "ipython3",
   "version": "3.7.5"
  }
 },
 "nbformat": 4,
 "nbformat_minor": 2
}