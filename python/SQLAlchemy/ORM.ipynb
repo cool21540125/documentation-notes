{
 "cells": [
  {
   "cell_type": "code",
   "execution_count": 1,
   "id": "83d4eca7",
   "metadata": {},
   "outputs": [],
   "source": [
    "from sqlalchemy import create_engine\n",
    "from sqlalchemy import MetaData\n",
    "import sqlite3"
   ]
  },
  {
   "cell_type": "code",
   "execution_count": 2,
   "id": "b93414e6",
   "metadata": {},
   "outputs": [],
   "source": [
    "from sqlalchemy import Table, Column, Integer, Numeric, String, DateTime, Boolean\n",
    "from sqlalchemy import ForeignKey\n",
    "from sqlalchemy.ext.declarative import declarative_base\n",
    "from sqlalchemy.orm import relationship, backref\n",
    "from sqlalchemy.orm import sessionmaker"
   ]
  },
  {
   "cell_type": "code",
   "execution_count": 3,
   "id": "0807274e",
   "metadata": {},
   "outputs": [],
   "source": [
    "from datetime import datetime\n"
   ]
  },
  {
   "cell_type": "code",
   "execution_count": 4,
   "id": "41a05583",
   "metadata": {},
   "outputs": [
    {
     "data": {
      "text/plain": [
       "Engine(sqlite:///cookies.db)"
      ]
     },
     "execution_count": 4,
     "metadata": {},
     "output_type": "execute_result"
    }
   ],
   "source": [
    "engine = create_engine('sqlite:///cookies.db', echo=True)\n",
    "engine"
   ]
  },
  {
   "cell_type": "code",
   "execution_count": 5,
   "id": "1821d688",
   "metadata": {},
   "outputs": [],
   "source": [
    "Base = declarative_base()"
   ]
  },
  {
   "cell_type": "code",
   "execution_count": 6,
   "id": "9b6e31bb",
   "metadata": {},
   "outputs": [],
   "source": [
    "metadata = MetaData()"
   ]
  },
  {
   "cell_type": "code",
   "execution_count": 7,
   "id": "884d96ed",
   "metadata": {
    "scrolled": true
   },
   "outputs": [],
   "source": [
    "# t = Base.metadata.tables['cookies']\n",
    "# Base.metadata.remove(t)\n",
    "\n",
    "class Cookie(Base):\n",
    "    __tablename__ = \"cookies\"\n",
    "    \n",
    "    cookie_id = Column(Integer, primary_key=True)\n",
    "    cookie_name = Column(String(50), index=True)\n",
    "    cookie_recipe_url = Column(String(255))\n",
    "    cookie_sku = Column(String(55))\n",
    "    quantity = Column(Integer)\n",
    "    unit_cost = Column(Numeric(12, 2))\n",
    "    \n",
    "#     def __repr__(self):\n",
    "#         return \"Cookie(cookie_name='{self.cookie_name}'\".format(self=self)"
   ]
  },
  {
   "cell_type": "code",
   "execution_count": 8,
   "id": "78fdfd5e",
   "metadata": {},
   "outputs": [],
   "source": [
    "# t = Base.metadata.tables['users']\n",
    "# Base.metadata.remove(t)\n",
    "\n",
    "class User(Base):\n",
    "    __tablename__ = 'users'\n",
    "    \n",
    "    user_id = Column(Integer, primary_key=True)\n",
    "    username = Column(Integer, nullable=False, unique=True)\n",
    "    email_address = Column(String(255), nullable=False)\n",
    "    phone = Column(String(20), nullable=False)\n",
    "    password = Column(String(25), nullable=False)\n",
    "    created_on = Column(DateTime(), default=datetime.now)\n",
    "    updated_on = Column(DateTime(), default=datetime.now, onupdate=datetime.now)\n",
    "    \n",
    "#     def __repr__(self):\n",
    "#         return \"User(username='{self.username}')\".format(self=self)\n"
   ]
  },
  {
   "cell_type": "code",
   "execution_count": 9,
   "id": "11133115",
   "metadata": {},
   "outputs": [],
   "source": [
    "# t = Base.metadata.tables['orders']\n",
    "# Base.metadata.remove(t)\n",
    "\n",
    "class Order(Base):\n",
    "    __tablename__ = 'orders'\n",
    "    \n",
    "    order_id = Column(Integer, primary_key=True)\n",
    "    user_id = Column(Integer, ForeignKey('users.user_id'))\n",
    "    shipped = Column(Boolean, default=False)\n",
    "    \n",
    "    user = relationship('User', backref=backref('orders', order_by=order_id))\n",
    "\n",
    "#     def __repr__(self):\n",
    "#         return \"Order(user_id='{self.user_id}', shipped='{self.shipped}')\".format(self=self)"
   ]
  },
  {
   "cell_type": "code",
   "execution_count": 10,
   "id": "60e7132d",
   "metadata": {},
   "outputs": [],
   "source": [
    "# t = Base.metadata.tables['orders']\n",
    "# Base.metadata.remove(t)\n",
    "\n",
    "class LineItem(Base):\n",
    "    __tablename__ = 'line_items'\n",
    "    \n",
    "    line_item_id = Column(Integer, primary_key=True)\n",
    "    order_id = Column(Integer, ForeignKey('orders.order_id'))\n",
    "    cookie_id = Column(Integer, ForeignKey('cookies.cookie_id'))\n",
    "    quantity = Column(Integer)\n",
    "    extended_cost = Column(Numeric(12, 2))\n",
    "    \n",
    "    order = relationship('Order', backref=backref('line_items', order_by=line_item_id))\n",
    "    cookie = relationship('Cookie', uselist=False)\n",
    "    \n",
    "#     def __repr__(self):\n",
    "#         return \"LineItems(order_id='{self.order_id}', cookie_id='{self.cookie_id}', quantity='{self.quantity}')\".format(self=self)"
   ]
  },
  {
   "cell_type": "code",
   "execution_count": 11,
   "id": "31463314",
   "metadata": {},
   "outputs": [
    {
     "name": "stdout",
     "output_type": "stream",
     "text": [
      "cookies\n",
      "---\n",
      "users\n",
      "---\n",
      "orders\n",
      "---\n",
      "line_items\n",
      "---\n"
     ]
    }
   ],
   "source": [
    "for t in Base.metadata.tables:\n",
    "    print(t)\n",
    "    print(\"---\")"
   ]
  },
  {
   "cell_type": "code",
   "execution_count": 14,
   "id": "804e6d1a",
   "metadata": {},
   "outputs": [
    {
     "name": "stdout",
     "output_type": "stream",
     "text": [
      "2022-02-04 01:33:20,299 INFO sqlalchemy.engine.Engine BEGIN (implicit)\n",
      "2022-02-04 01:33:20,300 INFO sqlalchemy.engine.Engine PRAGMA main.table_info(\"cookies\")\n",
      "2022-02-04 01:33:20,301 INFO sqlalchemy.engine.Engine [raw sql] ()\n",
      "2022-02-04 01:33:20,302 INFO sqlalchemy.engine.Engine PRAGMA main.table_info(\"users\")\n",
      "2022-02-04 01:33:20,303 INFO sqlalchemy.engine.Engine [raw sql] ()\n",
      "2022-02-04 01:33:20,304 INFO sqlalchemy.engine.Engine PRAGMA main.table_info(\"orders\")\n",
      "2022-02-04 01:33:20,305 INFO sqlalchemy.engine.Engine [raw sql] ()\n",
      "2022-02-04 01:33:20,306 INFO sqlalchemy.engine.Engine PRAGMA main.table_info(\"line_items\")\n",
      "2022-02-04 01:33:20,306 INFO sqlalchemy.engine.Engine [raw sql] ()\n",
      "2022-02-04 01:33:20,307 INFO sqlalchemy.engine.Engine \n",
      "DROP TABLE line_items\n",
      "2022-02-04 01:33:20,308 INFO sqlalchemy.engine.Engine [no key 0.00078s] ()\n",
      "2022-02-04 01:33:20,310 INFO sqlalchemy.engine.Engine \n",
      "DROP TABLE orders\n",
      "2022-02-04 01:33:20,311 INFO sqlalchemy.engine.Engine [no key 0.00076s] ()\n",
      "2022-02-04 01:33:20,313 INFO sqlalchemy.engine.Engine \n",
      "DROP TABLE users\n",
      "2022-02-04 01:33:20,313 INFO sqlalchemy.engine.Engine [no key 0.00074s] ()\n",
      "2022-02-04 01:33:20,315 INFO sqlalchemy.engine.Engine \n",
      "DROP TABLE cookies\n",
      "2022-02-04 01:33:20,316 INFO sqlalchemy.engine.Engine [no key 0.00071s] ()\n",
      "2022-02-04 01:33:20,318 INFO sqlalchemy.engine.Engine COMMIT\n"
     ]
    }
   ],
   "source": [
    "Base.metadata.drop_all(engine)"
   ]
  },
  {
   "cell_type": "code",
   "execution_count": 15,
   "id": "4931c881",
   "metadata": {},
   "outputs": [
    {
     "name": "stdout",
     "output_type": "stream",
     "text": [
      "2022-02-04 01:33:30,418 INFO sqlalchemy.engine.Engine BEGIN (implicit)\n",
      "2022-02-04 01:33:30,419 INFO sqlalchemy.engine.Engine PRAGMA main.table_info(\"cookies\")\n",
      "2022-02-04 01:33:30,421 INFO sqlalchemy.engine.Engine [raw sql] ()\n",
      "2022-02-04 01:33:30,422 INFO sqlalchemy.engine.Engine PRAGMA temp.table_info(\"cookies\")\n",
      "2022-02-04 01:33:30,423 INFO sqlalchemy.engine.Engine [raw sql] ()\n",
      "2022-02-04 01:33:30,424 INFO sqlalchemy.engine.Engine PRAGMA main.table_info(\"users\")\n",
      "2022-02-04 01:33:30,424 INFO sqlalchemy.engine.Engine [raw sql] ()\n",
      "2022-02-04 01:33:30,425 INFO sqlalchemy.engine.Engine PRAGMA temp.table_info(\"users\")\n",
      "2022-02-04 01:33:30,426 INFO sqlalchemy.engine.Engine [raw sql] ()\n",
      "2022-02-04 01:33:30,427 INFO sqlalchemy.engine.Engine PRAGMA main.table_info(\"orders\")\n",
      "2022-02-04 01:33:30,428 INFO sqlalchemy.engine.Engine [raw sql] ()\n",
      "2022-02-04 01:33:30,428 INFO sqlalchemy.engine.Engine PRAGMA temp.table_info(\"orders\")\n",
      "2022-02-04 01:33:30,429 INFO sqlalchemy.engine.Engine [raw sql] ()\n",
      "2022-02-04 01:33:30,430 INFO sqlalchemy.engine.Engine PRAGMA main.table_info(\"line_items\")\n",
      "2022-02-04 01:33:30,431 INFO sqlalchemy.engine.Engine [raw sql] ()\n",
      "2022-02-04 01:33:30,432 INFO sqlalchemy.engine.Engine PRAGMA temp.table_info(\"line_items\")\n",
      "2022-02-04 01:33:30,432 INFO sqlalchemy.engine.Engine [raw sql] ()\n",
      "2022-02-04 01:33:30,433 INFO sqlalchemy.engine.Engine \n",
      "CREATE TABLE cookies (\n",
      "\tcookie_id INTEGER NOT NULL, \n",
      "\tcookie_name VARCHAR(50), \n",
      "\tcookie_recipe_url VARCHAR(255), \n",
      "\tcookie_sku VARCHAR(55), \n",
      "\tquantity INTEGER, \n",
      "\tunit_cost NUMERIC(12, 2), \n",
      "\tPRIMARY KEY (cookie_id)\n",
      ")\n",
      "\n",
      "\n",
      "2022-02-04 01:33:30,434 INFO sqlalchemy.engine.Engine [no key 0.00070s] ()\n",
      "2022-02-04 01:33:30,436 INFO sqlalchemy.engine.Engine CREATE INDEX ix_cookies_cookie_name ON cookies (cookie_name)\n",
      "2022-02-04 01:33:30,436 INFO sqlalchemy.engine.Engine [no key 0.00060s] ()\n",
      "2022-02-04 01:33:30,438 INFO sqlalchemy.engine.Engine \n",
      "CREATE TABLE users (\n",
      "\tuser_id INTEGER NOT NULL, \n",
      "\tusername INTEGER NOT NULL, \n",
      "\temail_address VARCHAR(255) NOT NULL, \n",
      "\tphone VARCHAR(20) NOT NULL, \n",
      "\tpassword VARCHAR(25) NOT NULL, \n",
      "\tcreated_on DATETIME, \n",
      "\tupdated_on DATETIME, \n",
      "\tPRIMARY KEY (user_id), \n",
      "\tUNIQUE (username)\n",
      ")\n",
      "\n",
      "\n",
      "2022-02-04 01:33:30,439 INFO sqlalchemy.engine.Engine [no key 0.00066s] ()\n",
      "2022-02-04 01:33:30,442 INFO sqlalchemy.engine.Engine \n",
      "CREATE TABLE orders (\n",
      "\torder_id INTEGER NOT NULL, \n",
      "\tuser_id INTEGER, \n",
      "\tshipped BOOLEAN, \n",
      "\tPRIMARY KEY (order_id), \n",
      "\tFOREIGN KEY(user_id) REFERENCES users (user_id)\n",
      ")\n",
      "\n",
      "\n",
      "2022-02-04 01:33:30,442 INFO sqlalchemy.engine.Engine [no key 0.00083s] ()\n",
      "2022-02-04 01:33:30,444 INFO sqlalchemy.engine.Engine \n",
      "CREATE TABLE line_items (\n",
      "\tline_item_id INTEGER NOT NULL, \n",
      "\torder_id INTEGER, \n",
      "\tcookie_id INTEGER, \n",
      "\tquantity INTEGER, \n",
      "\textended_cost NUMERIC(12, 2), \n",
      "\tPRIMARY KEY (line_item_id), \n",
      "\tFOREIGN KEY(order_id) REFERENCES orders (order_id), \n",
      "\tFOREIGN KEY(cookie_id) REFERENCES cookies (cookie_id)\n",
      ")\n",
      "\n",
      "\n",
      "2022-02-04 01:33:30,445 INFO sqlalchemy.engine.Engine [no key 0.00081s] ()\n",
      "2022-02-04 01:33:30,447 INFO sqlalchemy.engine.Engine COMMIT\n"
     ]
    }
   ],
   "source": [
    "Base.metadata.create_all(engine)\n",
    "\n",
    "### 真實中斷 DB 連線\n",
    "# engine.dispose()"
   ]
  },
  {
   "cell_type": "markdown",
   "id": "5bdedb5f",
   "metadata": {},
   "source": [
    "---"
   ]
  },
  {
   "cell_type": "markdown",
   "id": "25bfb174",
   "metadata": {},
   "source": [
    "## Session"
   ]
  },
  {
   "cell_type": "code",
   "execution_count": 16,
   "id": "a648e686",
   "metadata": {},
   "outputs": [
    {
     "data": {
      "text/plain": [
       "<sqlalchemy.orm.session.Session at 0x10b88cb50>"
      ]
     },
     "execution_count": 16,
     "metadata": {},
     "output_type": "execute_result"
    }
   ],
   "source": [
    "Session = sessionmaker(bind=engine)\n",
    "session = Session()\n",
    "session"
   ]
  },
  {
   "cell_type": "code",
   "execution_count": 17,
   "id": "35fd51de",
   "metadata": {},
   "outputs": [
    {
     "name": "stdout",
     "output_type": "stream",
     "text": [
      "2022-02-04 01:34:11,148 INFO sqlalchemy.engine.Engine BEGIN (implicit)\n",
      "2022-02-04 01:34:11,150 INFO sqlalchemy.engine.Engine INSERT INTO cookies (cookie_name, cookie_recipe_url, cookie_sku, quantity, unit_cost) VALUES (?, ?, ?, ?, ?)\n",
      "2022-02-04 01:34:11,151 INFO sqlalchemy.engine.Engine [generated in 0.00083s] ('chocolate chip', 'http://some.aweso.me/cookie/recipe.html', 'CC01', 12, 0.5)\n",
      "2022-02-04 01:34:11,153 INFO sqlalchemy.engine.Engine COMMIT\n"
     ]
    }
   ],
   "source": [
    "cc_cookie = Cookie(cookie_name='chocolate chip',\n",
    "                   cookie_recipe_url='http://some.aweso.me/cookie/recipe.html',\n",
    "                   cookie_sku='CC01',\n",
    "                   quantity=12,\n",
    "                   unit_cost=0.5)\n",
    "session.add(cc_cookie)\n",
    "session.commit()"
   ]
  },
  {
   "cell_type": "code",
   "execution_count": 19,
   "id": "e2b81b7c",
   "metadata": {
    "scrolled": false
   },
   "outputs": [
    {
     "name": "stdout",
     "output_type": "stream",
     "text": [
      "2022-02-04 01:34:46,988 INFO sqlalchemy.engine.Engine BEGIN (implicit)\n",
      "2022-02-04 01:34:46,990 INFO sqlalchemy.engine.Engine INSERT INTO cookies (cookie_name, cookie_recipe_url, cookie_sku, quantity, unit_cost) VALUES (?, ?, ?, ?, ?)\n",
      "2022-02-04 01:34:46,991 INFO sqlalchemy.engine.Engine [cached since 35.84s ago] ('dark chocolate chip', 'http://some.aweso.me/cookie/recipe_dark.html', 'CC02', 1, 0.75)\n",
      "2022-02-04 01:34:46,992 INFO sqlalchemy.engine.Engine INSERT INTO cookies (cookie_name, cookie_recipe_url, cookie_sku, quantity, unit_cost) VALUES (?, ?, ?, ?, ?)\n",
      "2022-02-04 01:34:46,993 INFO sqlalchemy.engine.Engine [cached since 35.84s ago] ('molasses', 'http://some.aweso.me/cookie/recipe_molasses.html', 'MOL01', 1, 0.8)\n",
      "2\n",
      "3\n"
     ]
    }
   ],
   "source": [
    "dcc = Cookie(cookie_name='dark chocolate chip',\n",
    "             cookie_recipe_url='http://some.aweso.me/cookie/recipe_dark.html',\n",
    "             cookie_sku='CC02',\n",
    "             quantity=1,\n",
    "             unit_cost=.75)\n",
    "mol = Cookie(cookie_name='molasses',\n",
    "             cookie_recipe_url='http://some.aweso.me/cookie/recipe_molasses.html',\n",
    "             cookie_sku='MOL01',\n",
    "             quantity=1,\n",
    "             unit_cost=.8)\n",
    "session.add(dcc)\n",
    "session.add(mol)\n",
    "session.flush()\n",
    "print(dcc.cookie_id)\n",
    "print(mol.cookie_id)"
   ]
  },
  {
   "cell_type": "code",
   "execution_count": 20,
   "id": "194eb148",
   "metadata": {},
   "outputs": [
    {
     "name": "stdout",
     "output_type": "stream",
     "text": [
      "2022-02-04 01:39:25,919 INFO sqlalchemy.engine.Engine INSERT INTO cookies (cookie_name, cookie_recipe_url, cookie_sku, quantity, unit_cost) VALUES (?, ?, ?, ?, ?)\n",
      "2022-02-04 01:39:25,921 INFO sqlalchemy.engine.Engine [generated in 0.00160s] (('peanut butter', 'http://some.aweso.me/cookie/peanut.html', 'PB01', 24, 0.25), ('oatmeal raisin', 'http://some.aweso.me/cookie/raisin.html', 'EWW01', 100, 1.0))\n",
      "2022-02-04 01:39:25,922 INFO sqlalchemy.engine.Engine COMMIT\n"
     ]
    }
   ],
   "source": [
    "c1 = Cookie(cookie_name='peanut butter',\n",
    "            cookie_recipe_url='http://some.aweso.me/cookie/peanut.html',\n",
    "            cookie_sku='PB01',\n",
    "            quantity=24,\n",
    "            unit_cost=.25)\n",
    "c2 = Cookie(cookie_name='oatmeal raisin',\n",
    "            cookie_recipe_url='http://some.aweso.me/cookie/raisin.html',\n",
    "            cookie_sku='EWW01',\n",
    "            quantity=100,\n",
    "            unit_cost=1.00)\n",
    "session.bulk_save_objects([c1, c2])\n",
    "session.commit()"
   ]
  }
 ],
 "metadata": {
  "kernelspec": {
   "display_name": "Python 3 (ipykernel)",
   "language": "python",
   "name": "python3"
  },
  "language_info": {
   "codemirror_mode": {
    "name": "ipython",
    "version": 3
   },
   "file_extension": ".py",
   "mimetype": "text/x-python",
   "name": "python",
   "nbconvert_exporter": "python",
   "pygments_lexer": "ipython3",
   "version": "3.9.7"
  }
 },
 "nbformat": 4,
 "nbformat_minor": 5
}
